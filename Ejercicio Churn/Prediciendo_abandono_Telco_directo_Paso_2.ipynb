{
  "nbformat": 4,
  "nbformat_minor": 0,
  "metadata": {
    "colab": {
      "name": "Prediciendo abandono Telco directo Paso 2.ipynb",
      "version": "0.3.2",
      "provenance": [],
      "collapsed_sections": [],
      "include_colab_link": true
    },
    "kernelspec": {
      "name": "python3",
      "display_name": "Python 3"
    }
  },
  "cells": [
    {
      "cell_type": "markdown",
      "metadata": {
        "id": "view-in-github",
        "colab_type": "text"
      },
      "source": [
        "<a href=\"https://colab.research.google.com/github/antoniosql/cursoml/blob/master/Ejercicio%20Churn/Prediciendo_abandono_Telco_directo_Paso_2.ipynb\" target=\"_parent\"><img src=\"https://colab.research.google.com/assets/colab-badge.svg\" alt=\"Open In Colab\"/></a>"
      ]
    },
    {
      "cell_type": "markdown",
      "metadata": {
        "id": "xhEIY6HOdK81",
        "colab_type": "text"
      },
      "source": [
        "![SolidQ](https://www.solidq.com/wp-content/uploads/2015/06/Logo-SolidQ-Web.gif)\n",
        "# Prediciendo el abandono de clientes"
      ]
    },
    {
      "cell_type": "markdown",
      "metadata": {
        "id": "kD8ohED5dPau",
        "colab_type": "text"
      },
      "source": [
        "## Cómo leer ficheros de Drive en lugar de subirlos al entorno volátil de Colaboratory"
      ]
    },
    {
      "cell_type": "code",
      "metadata": {
        "id": "iUPylagRdQso",
        "colab_type": "code",
        "colab": {}
      },
      "source": [
        "from google.colab import drive\n",
        "drive.mount('/content/gdrive')"
      ],
      "execution_count": 0,
      "outputs": []
    },
    {
      "cell_type": "code",
      "metadata": {
        "id": "l6SSBIstOZGD",
        "colab_type": "code",
        "colab": {}
      },
      "source": [
        "import pandas as pd\n",
        "import numpy as np\n",
        "import matplotlib.pyplot as plt\n",
        "from sklearn.compose import ColumnTransformer\n",
        "from sklearn.pipeline import Pipeline\n",
        "from sklearn.impute import SimpleImputer\n",
        "from sklearn.preprocessing import StandardScaler, OneHotEncoder\n",
        "from sklearn.tree import DecisionTreeClassifier\n",
        "from sklearn.model_selection import train_test_split"
      ],
      "execution_count": 0,
      "outputs": []
    },
    {
      "cell_type": "code",
      "metadata": {
        "id": "dirFAYWmOc6D",
        "colab_type": "code",
        "colab": {}
      },
      "source": [
        "df = pd.read_csv('TelcoChurn.csv')"
      ],
      "execution_count": 0,
      "outputs": []
    },
    {
      "cell_type": "code",
      "metadata": {
        "id": "iPiLFYDeOmMf",
        "colab_type": "code",
        "colab": {}
      },
      "source": [
        "correlacion = df.corr() \n",
        "fig, ax = plt.subplots(figsize=(21, 21)) \n",
        "ax.matshow(correlacion) \n",
        "plt.xticks(range(len(correlacion.columns)), correlacion.columns); \n",
        "plt.yticks(range(len(correlacion.columns)), correlacion.columns); "
      ],
      "execution_count": 0,
      "outputs": []
    },
    {
      "cell_type": "code",
      "metadata": {
        "id": "7JuYIxSmO9ux",
        "colab_type": "code",
        "colab": {}
      },
      "source": [
        "etiqueta = 'Churn'\n",
        "caracteristicas = ['Account_Length','Vmail_Message','Day_Mins','Eve_Mins','Night_Mins','Intl_Mins','CustServ_Calls','Day_Calls','Day_Charge','Eve_Calls','Eve_Charge','Night_Calls','Night_Charge','Intl_Calls','Intl_Charge','Area_Code',\"Intl_Plan\",\"Vmail_Plan\"]\n",
        "y=df[etiqueta]\n",
        "X=df[caracteristicas]"
      ],
      "execution_count": 0,
      "outputs": []
    },
    {
      "cell_type": "code",
      "metadata": {
        "id": "-VJikM1SRKt4",
        "colab_type": "code",
        "colab": {}
      },
      "source": [
        "\n",
        "X_train, X_test, y_train, y_test = train_test_split(X, y, random_state=0)"
      ],
      "execution_count": 0,
      "outputs": []
    },
    {
      "cell_type": "code",
      "metadata": {
        "id": "L0J5i_e_QSxr",
        "colab_type": "code",
        "colab": {}
      },
      "source": [
        "caracteristicas_categoricas=[\"Intl_Plan\",\"Vmail_Plan\"]\n",
        "\n",
        "categorical_transformer = Pipeline(steps=[\n",
        "    ('imputer', SimpleImputer(strategy='constant', fill_value='missing')),\n",
        "    ('onehot', OneHotEncoder(handle_unknown='ignore'))])"
      ],
      "execution_count": 0,
      "outputs": []
    },
    {
      "cell_type": "code",
      "metadata": {
        "id": "ovK9ED4rQqSW",
        "colab_type": "code",
        "colab": {}
      },
      "source": [
        "caracteristicas_numericas = ['Account_Length','Vmail_Message','Day_Mins','Eve_Mins','Night_Mins','Intl_Mins','CustServ_Calls','Day_Calls','Day_Charge','Eve_Calls','Eve_Charge','Night_Calls','Night_Charge','Intl_Calls','Intl_Charge','Area_Code']\n",
        "#Definimos las transformaciones que les vamos a aplicar --> Imputar nulos y escalar\n",
        "numeric_transformer = Pipeline(steps=[\n",
        "    ('imputer', SimpleImputer(strategy='median')),\n",
        "    ('scaler', StandardScaler())])"
      ],
      "execution_count": 0,
      "outputs": []
    },
    {
      "cell_type": "code",
      "metadata": {
        "id": "VzN0slfqQ-3-",
        "colab_type": "code",
        "colab": {}
      },
      "source": [
        "preprocessor = ColumnTransformer(\n",
        "    transformers=[\n",
        "        ('num', numeric_transformer, caracteristicas_numericas),\n",
        "        ('cat', categorical_transformer, caracteristicas_categoricas)])"
      ],
      "execution_count": 0,
      "outputs": []
    },
    {
      "cell_type": "code",
      "metadata": {
        "id": "EcqpmWPlRDoi",
        "colab_type": "code",
        "colab": {}
      },
      "source": [
        "clf = Pipeline(steps=[('preprocessor', preprocessor),\n",
        "                      ('classifier', DecisionTreeClassifier(max_depth=4))])"
      ],
      "execution_count": 0,
      "outputs": []
    },
    {
      "cell_type": "code",
      "metadata": {
        "id": "GPDkTb52j-cL",
        "colab_type": "code",
        "colab": {}
      },
      "source": [
        "from sklearn.linear_model import LogisticRegression\n",
        "\n",
        "\n",
        "clf_lr = Pipeline(steps=[('preprocessor', preprocessor),\n",
        "                      ('classifier', LogisticRegression())])"
      ],
      "execution_count": 0,
      "outputs": []
    },
    {
      "cell_type": "code",
      "metadata": {
        "id": "x1m3p6kjO0I3",
        "colab_type": "code",
        "colab": {}
      },
      "source": [
        "clf.fit(X_train, y_train)\n",
        "\n",
        "clf_lr.fit(X_train, y_train)\n"
      ],
      "execution_count": 0,
      "outputs": []
    },
    {
      "cell_type": "code",
      "metadata": {
        "id": "fji1PCzBRRJv",
        "colab_type": "code",
        "colab": {}
      },
      "source": [
        "predictions = clf.predict(X_test)\n",
        "predictions_lr = clf_lr.predict(X_test)"
      ],
      "execution_count": 0,
      "outputs": []
    },
    {
      "cell_type": "code",
      "metadata": {
        "id": "Ma9UD4mQRTSe",
        "colab_type": "code",
        "colab": {}
      },
      "source": [
        "from sklearn.metrics import classification_report\n",
        "from sklearn.metrics import confusion_matrix\n",
        "\n",
        "print(confusion_matrix(y_test, predictions))\n",
        "print(classification_report(y_test, predictions))\n",
        "\n",
        "print(confusion_matrix(y_test, predictions_lr))\n",
        "print(classification_report(y_test, predictions_lr))"
      ],
      "execution_count": 0,
      "outputs": []
    }
  ]
}