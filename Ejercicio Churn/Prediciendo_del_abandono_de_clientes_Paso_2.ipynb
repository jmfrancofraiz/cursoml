{
  "nbformat": 4,
  "nbformat_minor": 0,
  "metadata": {
    "colab": {
      "name": "Prediciendo del abandono de clientes Paso 2.ipynb",
      "version": "0.3.2",
      "provenance": [],
      "collapsed_sections": [],
      "include_colab_link": true
    },
    "kernelspec": {
      "name": "python3",
      "display_name": "Python 3"
    }
  },
  "cells": [
    {
      "cell_type": "markdown",
      "metadata": {
        "id": "view-in-github",
        "colab_type": "text"
      },
      "source": [
        "<a href=\"https://colab.research.google.com/github/antoniosql/cursoml/blob/master/Ejercicio%20Churn/Prediciendo_del_abandono_de_clientes_Paso_2.ipynb\" target=\"_parent\"><img src=\"https://colab.research.google.com/assets/colab-badge.svg\" alt=\"Open In Colab\"/></a>"
      ]
    },
    {
      "cell_type": "markdown",
      "metadata": {
        "id": "JJCHjRcyb9XP",
        "colab_type": "text"
      },
      "source": [
        "![SolidQ](https://www.solidq.com/wp-content/uploads/2015/06/Logo-SolidQ-Web.gif)\n",
        "# Prediciendo el abandono de clientes\n"
      ]
    },
    {
      "cell_type": "markdown",
      "metadata": {
        "id": "IZuC0xI_cICp",
        "colab_type": "text"
      },
      "source": [
        "## Cómo leer ficheros de Drive en lugar de subirlos al entorno volátil de Colaboratory"
      ]
    },
    {
      "cell_type": "code",
      "metadata": {
        "id": "3jeyu-ee-vFX",
        "colab_type": "code",
        "colab": {}
      },
      "source": [
        "from google.colab import drive\n",
        "drive.mount('/content/gdrive')"
      ],
      "execution_count": 0,
      "outputs": []
    },
    {
      "cell_type": "markdown",
      "metadata": {
        "id": "RT62LzVUHf-O",
        "colab_type": "text"
      },
      "source": [
        "Tenemos un escenario en el que queremos medir el ratio de abandono (Churn Rate) de nuestros clientes de Telco. Es un concepto especialmente importante en negocios que están basados en suscripciones.\n",
        "\n",
        "en nuestro conjunto de datos de ejemplo, cada ocurrencia representa un cliente de una compañía telefónica. Cada columna contiene atributos de ese cliente, como los cargos incurridos por servicio, tiempo de duración de su cuenta o si el cliente es todavía clinete o no. "
      ]
    },
    {
      "cell_type": "markdown",
      "metadata": {
        "id": "7F9Pj1vhcQw8",
        "colab_type": "text"
      },
      "source": [
        "## Importamos las clases y módulos necesarios"
      ]
    },
    {
      "cell_type": "code",
      "metadata": {
        "id": "uGun-3pZ-zcu",
        "colab_type": "code",
        "colab": {}
      },
      "source": [
        "import pandas as pd\n",
        "import matplotlib.pyplot as plt\n",
        "import numpy as np\n",
        "\n",
        "from sklearn.compose import ColumnTransformer\n",
        "from sklearn.pipeline import Pipeline\n",
        "from sklearn.impute import SimpleImputer\n",
        "from sklearn.preprocessing import StandardScaler, OneHotEncoder\n",
        "from sklearn.tree import DecisionTreeClassifier\n",
        "from sklearn.model_selection import train_test_split"
      ],
      "execution_count": 0,
      "outputs": []
    },
    {
      "cell_type": "markdown",
      "metadata": {
        "id": "DPeqkn0GcYqD",
        "colab_type": "text"
      },
      "source": [
        "## Explorando los datos"
      ]
    },
    {
      "cell_type": "code",
      "metadata": {
        "id": "OjlZ_xZD-0nw",
        "colab_type": "code",
        "colab": {}
      },
      "source": [
        "\n",
        "df_abandonos = pd.read_csv(\"/content/gdrive/My Drive/Datos/TelcoChurn.csv\" )"
      ],
      "execution_count": 0,
      "outputs": []
    },
    {
      "cell_type": "code",
      "metadata": {
        "id": "oqP0cuDV_OQZ",
        "colab_type": "code",
        "colab": {}
      },
      "source": [
        "df_abandonos.head()\n",
        "#tenemos 3333 observaciones, de ellas 483 tienen Churn = yes"
      ],
      "execution_count": 0,
      "outputs": []
    },
    {
      "cell_type": "code",
      "metadata": {
        "id": "8vU0kUcbONMf",
        "colab_type": "code",
        "colab": {}
      },
      "source": [
        "#filtro = df_abandonos[\"Churn\"]==\"yes\"\n",
        "#df_abandonos.where(filtro, inplace = False).count()\n"
      ],
      "execution_count": 0,
      "outputs": []
    },
    {
      "cell_type": "code",
      "metadata": {
        "id": "hB-BzKiQ_oXR",
        "colab_type": "code",
        "colab": {}
      },
      "source": [
        "    correlacion = df_abandonos.corr() \n",
        "    fig, ax = plt.subplots(figsize=(21, 21)) \n",
        "    ax.matshow(correlacion) \n",
        "    plt.xticks(range(len(correlacion.columns)), correlacion.columns); \n",
        "    plt.yticks(range(len(correlacion.columns)), correlacion.columns); "
      ],
      "execution_count": 0,
      "outputs": []
    },
    {
      "cell_type": "markdown",
      "metadata": {
        "id": "pN249dWcAP1m",
        "colab_type": "text"
      },
      "source": [
        "Es evidente que los cargos dependen de los minutos de conversación por lo que los pares de características x_calls x_Charge están muy correlacionadas entre sí"
      ]
    },
    {
      "cell_type": "code",
      "metadata": {
        "id": "SeszUHPCJZAy",
        "colab_type": "code",
        "colab": {}
      },
      "source": [
        "\n",
        "#Extraemos las etiquetas\n",
        "resultado_abandono = df_abandonos['Churn']\n",
        "y = np.where(resultado_abandono == 'yes',1,0)\n",
        "\n",
        "# No necesitamos estas columnas\n",
        "a_eliminar = ['State','Area_Code','Phone','Churn']\n",
        "churn_feat_space = df_abandonos.drop(a_eliminar,axis=1)\n",
        "\n",
        "yes_no_cols = [\"Intl_Plan\",\"Vmail_Plan\"]\n",
        "churn_feat_space[yes_no_cols] = churn_feat_space[yes_no_cols] == 'yes'\n",
        "\n",
        "\n",
        "# Extrarmos características para su uso posterior\n",
        "\n",
        "caracteristicas = churn_feat_space.columns\n",
        "\n",
        "X = churn_feat_space.as_matrix().astype(np.float)\n",
        "\n",
        "# Escalamos\n",
        "from sklearn.preprocessing import StandardScaler\n",
        "scaler = StandardScaler()\n",
        "X = scaler.fit_transform(X)\n",
        "\n",
        "print (\"Disponemos de %d observaciones y %d características\" % X.shape)\n",
        "print (\"Etiquetas objetivo únicas:\", np.unique(y))\n"
      ],
      "execution_count": 0,
      "outputs": []
    },
    {
      "cell_type": "markdown",
      "metadata": {
        "id": "ZuTQEg8SeLMr",
        "colab_type": "text"
      },
      "source": [
        "## Validación cruzada de Algoritmos"
      ]
    },
    {
      "cell_type": "code",
      "metadata": {
        "id": "inFPkoqfeP_G",
        "colab_type": "code",
        "colab": {}
      },
      "source": [
        "from sklearn.model_selection import KFold\n",
        "\n",
        "def run_cv(X,y,clf_class,**kwargs):\n",
        "    # Construir el objeto Kfolds\n",
        "    kf = KFold(5)\n",
        "    y_pred = y.copy()\n",
        "\n",
        "    # Iterar por los Folds\n",
        "    for k, (train, test) in enumerate(kf.split(X, y)):\n",
        "        X_train, X_test = X[train], X[test]\n",
        "        y_train = y[train]\n",
        "        # Inicializar un clasificador con los argumentos clave\n",
        "        clf = clf_class(**kwargs)\n",
        "        clf.fit(X_train,y_train)\n",
        "        y_pred[test] = clf.predict(X_test)\n",
        "    return y_pred"
      ],
      "execution_count": 0,
      "outputs": []
    },
    {
      "cell_type": "markdown",
      "metadata": {
        "id": "VhX3UWBzemqW",
        "colab_type": "text"
      },
      "source": [
        "### Probamos los tres algoritmos"
      ]
    },
    {
      "cell_type": "code",
      "metadata": {
        "id": "J-Y2XAaSepSl",
        "colab_type": "code",
        "colab": {}
      },
      "source": [
        "from sklearn.svm import SVC\n",
        "from sklearn.ensemble import RandomForestClassifier as RF\n",
        "from sklearn.neighbors import KNeighborsClassifier as KNN\n",
        "\n",
        "def accuracy(y_true,y_pred):\n",
        "    # NumPy interprets True and False as 1. and 0.\n",
        "    return np.mean(y_true == y_pred)\n",
        "\n",
        "print (\"Support vector machines:\")\n",
        "print (\"%.3f\" % accuracy(y, run_cv(X,y,SVC)))\n",
        "print (\"Random forest:\")\n",
        "print (\"%.3f\" % accuracy(y, run_cv(X,y,RF)))\n",
        "print (\"K-nearest-neighbors:\")\n",
        "print (\"%.3f\" % accuracy(y, run_cv(X,y,KNN)))"
      ],
      "execution_count": 0,
      "outputs": []
    },
    {
      "cell_type": "markdown",
      "metadata": {
        "id": "buNKSfSYgrdI",
        "colab_type": "text"
      },
      "source": [
        "### Matriz de Confusión"
      ]
    },
    {
      "cell_type": "code",
      "metadata": {
        "id": "aU-XKL_NgvIP",
        "colab_type": "code",
        "colab": {}
      },
      "source": [
        "from sklearn.metrics import confusion_matrix\n",
        "\n",
        "y = np.array(y)\n",
        "\n",
        "\n",
        "confusion_matrix(y,run_cv(X,y,SVC))\n"
      ],
      "execution_count": 0,
      "outputs": []
    },
    {
      "cell_type": "code",
      "metadata": {
        "id": "t48uueRChpes",
        "colab_type": "code",
        "colab": {}
      },
      "source": [
        "confusion_matrix(y,run_cv(X,y,RF)) \n"
      ],
      "execution_count": 0,
      "outputs": []
    },
    {
      "cell_type": "code",
      "metadata": {
        "id": "3KYLr2-Chpw3",
        "colab_type": "code",
        "colab": {}
      },
      "source": [
        "confusion_matrix(y,run_cv(X,y,KNN))"
      ],
      "execution_count": 0,
      "outputs": []
    }
  ]
}