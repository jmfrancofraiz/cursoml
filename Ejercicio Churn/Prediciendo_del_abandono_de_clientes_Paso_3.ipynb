{
  "nbformat": 4,
  "nbformat_minor": 0,
  "metadata": {
    "colab": {
      "name": "Prediciendo del abandono de clientes Paso 3.ipynb",
      "version": "0.3.2",
      "provenance": [],
      "collapsed_sections": [],
      "toc_visible": true,
      "include_colab_link": true
    },
    "kernelspec": {
      "name": "python3",
      "display_name": "Python 3"
    }
  },
  "cells": [
    {
      "cell_type": "markdown",
      "metadata": {
        "id": "view-in-github",
        "colab_type": "text"
      },
      "source": [
        "<a href=\"https://colab.research.google.com/github/antoniosql/cursoml/blob/master/Ejercicio%20Churn/Prediciendo_del_abandono_de_clientes_Paso_3.ipynb\" target=\"_parent\"><img src=\"https://colab.research.google.com/assets/colab-badge.svg\" alt=\"Open In Colab\"/></a>"
      ]
    },
    {
      "cell_type": "markdown",
      "metadata": {
        "id": "JJCHjRcyb9XP",
        "colab_type": "text"
      },
      "source": [
        "![SolidQ](https://www.solidq.com/wp-content/uploads/2015/06/Logo-SolidQ-Web.gif)\n",
        "# Prediciendo el abandono de clientes\n"
      ]
    },
    {
      "cell_type": "markdown",
      "metadata": {
        "id": "IZuC0xI_cICp",
        "colab_type": "text"
      },
      "source": [
        "## Cómo leer ficheros de Drive en lugar de subirlos al entorno volátil de Colaboratory"
      ]
    },
    {
      "cell_type": "code",
      "metadata": {
        "id": "3jeyu-ee-vFX",
        "colab_type": "code",
        "outputId": "ef73bafe-0641-4e10-8190-37858b992553",
        "colab": {
          "base_uri": "https://localhost:8080/",
          "height": 54
        }
      },
      "source": [
        "from google.colab import drive\n",
        "drive.mount('/content/gdrive')"
      ],
      "execution_count": 0,
      "outputs": [
        {
          "output_type": "stream",
          "text": [
            "Drive already mounted at /content/gdrive; to attempt to forcibly remount, call drive.mount(\"/content/gdrive\", force_remount=True).\n"
          ],
          "name": "stdout"
        }
      ]
    },
    {
      "cell_type": "markdown",
      "metadata": {
        "id": "RT62LzVUHf-O",
        "colab_type": "text"
      },
      "source": [
        "Tenemos un escenario en el que queremos medir el ratio de abandono (Churn Rate) de nuestros clientes de Telco. Es un concepto especialmente importante en negocios que están basados en suscripciones.\n",
        "\n",
        "en nuestro conjunto de datos de ejemplo, cada ocurrencia representa un cliente de una compañía telefónica. Cada columna contiene atributos de ese cliente, como los cargos incurridos por servicio, tiempo de duración de su cuenta o si el cliente es todavía clinete o no. "
      ]
    },
    {
      "cell_type": "markdown",
      "metadata": {
        "id": "7F9Pj1vhcQw8",
        "colab_type": "text"
      },
      "source": [
        "## Importamos las clases y módulos necesarios"
      ]
    },
    {
      "cell_type": "code",
      "metadata": {
        "id": "uGun-3pZ-zcu",
        "colab_type": "code",
        "colab": {}
      },
      "source": [
        "import pandas as pd\n",
        "import matplotlib.pyplot as plt\n",
        "import numpy as np\n",
        "\n",
        "from sklearn.compose import ColumnTransformer\n",
        "from sklearn.pipeline import Pipeline\n",
        "from sklearn.impute import SimpleImputer\n",
        "from sklearn.preprocessing import StandardScaler, OneHotEncoder\n",
        "from sklearn.tree import DecisionTreeClassifier\n",
        "from sklearn.model_selection import train_test_split"
      ],
      "execution_count": 0,
      "outputs": []
    },
    {
      "cell_type": "markdown",
      "metadata": {
        "id": "DPeqkn0GcYqD",
        "colab_type": "text"
      },
      "source": [
        "## Explorando los datos"
      ]
    },
    {
      "cell_type": "code",
      "metadata": {
        "id": "OjlZ_xZD-0nw",
        "colab_type": "code",
        "colab": {}
      },
      "source": [
        "\n",
        "df_abandonos = pd.read_csv(\"/content/gdrive/My Drive/Datos/TelcoChurn.csv\" )"
      ],
      "execution_count": 0,
      "outputs": []
    },
    {
      "cell_type": "code",
      "metadata": {
        "id": "oqP0cuDV_OQZ",
        "colab_type": "code",
        "outputId": "5ebfa6dd-fa4e-4094-f63b-a36f0ec16a99",
        "colab": {
          "base_uri": "https://localhost:8080/",
          "height": 309
        }
      },
      "source": [
        "df_abandonos.head()\n",
        "#tenemos 3333 observaciones, de ellas 483 tienen Churn = yes"
      ],
      "execution_count": 0,
      "outputs": [
        {
          "output_type": "execute_result",
          "data": {
            "text/html": [
              "<div>\n",
              "<style scoped>\n",
              "    .dataframe tbody tr th:only-of-type {\n",
              "        vertical-align: middle;\n",
              "    }\n",
              "\n",
              "    .dataframe tbody tr th {\n",
              "        vertical-align: top;\n",
              "    }\n",
              "\n",
              "    .dataframe thead th {\n",
              "        text-align: right;\n",
              "    }\n",
              "</style>\n",
              "<table border=\"1\" class=\"dataframe\">\n",
              "  <thead>\n",
              "    <tr style=\"text-align: right;\">\n",
              "      <th></th>\n",
              "      <th>Account_Length</th>\n",
              "      <th>Vmail_Message</th>\n",
              "      <th>Day_Mins</th>\n",
              "      <th>Eve_Mins</th>\n",
              "      <th>Night_Mins</th>\n",
              "      <th>Intl_Mins</th>\n",
              "      <th>CustServ_Calls</th>\n",
              "      <th>Churn</th>\n",
              "      <th>Intl_Plan</th>\n",
              "      <th>Vmail_Plan</th>\n",
              "      <th>Day_Calls</th>\n",
              "      <th>Day_Charge</th>\n",
              "      <th>Eve_Calls</th>\n",
              "      <th>Eve_Charge</th>\n",
              "      <th>Night_Calls</th>\n",
              "      <th>Night_Charge</th>\n",
              "      <th>Intl_Calls</th>\n",
              "      <th>Intl_Charge</th>\n",
              "      <th>State</th>\n",
              "      <th>Area_Code</th>\n",
              "      <th>Phone</th>\n",
              "    </tr>\n",
              "  </thead>\n",
              "  <tbody>\n",
              "    <tr>\n",
              "      <th>0</th>\n",
              "      <td>128</td>\n",
              "      <td>25</td>\n",
              "      <td>265.1</td>\n",
              "      <td>197.4</td>\n",
              "      <td>244.7</td>\n",
              "      <td>10.0</td>\n",
              "      <td>1</td>\n",
              "      <td>no</td>\n",
              "      <td>no</td>\n",
              "      <td>yes</td>\n",
              "      <td>110</td>\n",
              "      <td>45.07</td>\n",
              "      <td>99</td>\n",
              "      <td>16.78</td>\n",
              "      <td>91</td>\n",
              "      <td>11.01</td>\n",
              "      <td>3</td>\n",
              "      <td>2.70</td>\n",
              "      <td>KS</td>\n",
              "      <td>415</td>\n",
              "      <td>382-4657</td>\n",
              "    </tr>\n",
              "    <tr>\n",
              "      <th>1</th>\n",
              "      <td>107</td>\n",
              "      <td>26</td>\n",
              "      <td>161.6</td>\n",
              "      <td>195.5</td>\n",
              "      <td>254.4</td>\n",
              "      <td>13.7</td>\n",
              "      <td>1</td>\n",
              "      <td>no</td>\n",
              "      <td>no</td>\n",
              "      <td>yes</td>\n",
              "      <td>123</td>\n",
              "      <td>27.47</td>\n",
              "      <td>103</td>\n",
              "      <td>16.62</td>\n",
              "      <td>103</td>\n",
              "      <td>11.45</td>\n",
              "      <td>3</td>\n",
              "      <td>3.70</td>\n",
              "      <td>OH</td>\n",
              "      <td>415</td>\n",
              "      <td>371-7191</td>\n",
              "    </tr>\n",
              "    <tr>\n",
              "      <th>2</th>\n",
              "      <td>137</td>\n",
              "      <td>0</td>\n",
              "      <td>243.4</td>\n",
              "      <td>121.2</td>\n",
              "      <td>162.6</td>\n",
              "      <td>12.2</td>\n",
              "      <td>0</td>\n",
              "      <td>no</td>\n",
              "      <td>no</td>\n",
              "      <td>no</td>\n",
              "      <td>114</td>\n",
              "      <td>41.38</td>\n",
              "      <td>110</td>\n",
              "      <td>10.30</td>\n",
              "      <td>104</td>\n",
              "      <td>7.32</td>\n",
              "      <td>5</td>\n",
              "      <td>3.29</td>\n",
              "      <td>NJ</td>\n",
              "      <td>415</td>\n",
              "      <td>358-1921</td>\n",
              "    </tr>\n",
              "    <tr>\n",
              "      <th>3</th>\n",
              "      <td>84</td>\n",
              "      <td>0</td>\n",
              "      <td>299.4</td>\n",
              "      <td>61.9</td>\n",
              "      <td>196.9</td>\n",
              "      <td>6.6</td>\n",
              "      <td>2</td>\n",
              "      <td>no</td>\n",
              "      <td>yes</td>\n",
              "      <td>no</td>\n",
              "      <td>71</td>\n",
              "      <td>50.90</td>\n",
              "      <td>88</td>\n",
              "      <td>5.26</td>\n",
              "      <td>89</td>\n",
              "      <td>8.86</td>\n",
              "      <td>7</td>\n",
              "      <td>1.78</td>\n",
              "      <td>OH</td>\n",
              "      <td>408</td>\n",
              "      <td>375-9999</td>\n",
              "    </tr>\n",
              "    <tr>\n",
              "      <th>4</th>\n",
              "      <td>75</td>\n",
              "      <td>0</td>\n",
              "      <td>166.7</td>\n",
              "      <td>148.3</td>\n",
              "      <td>186.9</td>\n",
              "      <td>10.1</td>\n",
              "      <td>3</td>\n",
              "      <td>no</td>\n",
              "      <td>yes</td>\n",
              "      <td>no</td>\n",
              "      <td>113</td>\n",
              "      <td>28.34</td>\n",
              "      <td>122</td>\n",
              "      <td>12.61</td>\n",
              "      <td>121</td>\n",
              "      <td>8.41</td>\n",
              "      <td>3</td>\n",
              "      <td>2.73</td>\n",
              "      <td>OK</td>\n",
              "      <td>415</td>\n",
              "      <td>330-6626</td>\n",
              "    </tr>\n",
              "  </tbody>\n",
              "</table>\n",
              "</div>"
            ],
            "text/plain": [
              "   Account_Length  Vmail_Message  Day_Mins  ...  State  Area_Code     Phone\n",
              "0             128             25     265.1  ...     KS        415  382-4657\n",
              "1             107             26     161.6  ...     OH        415  371-7191\n",
              "2             137              0     243.4  ...     NJ        415  358-1921\n",
              "3              84              0     299.4  ...     OH        408  375-9999\n",
              "4              75              0     166.7  ...     OK        415  330-6626\n",
              "\n",
              "[5 rows x 21 columns]"
            ]
          },
          "metadata": {
            "tags": []
          },
          "execution_count": 27
        }
      ]
    },
    {
      "cell_type": "code",
      "metadata": {
        "id": "njdEzCdAGUrF",
        "colab_type": "code",
        "colab": {}
      },
      "source": [
        ""
      ],
      "execution_count": 0,
      "outputs": []
    },
    {
      "cell_type": "code",
      "metadata": {
        "id": "8vU0kUcbONMf",
        "colab_type": "code",
        "colab": {}
      },
      "source": [
        "#filtro = df_abandonos[\"Churn\"]==\"yes\"\n",
        "#df_abandonos.where(filtro, inplace = False).count()\n"
      ],
      "execution_count": 0,
      "outputs": []
    },
    {
      "cell_type": "code",
      "metadata": {
        "id": "hB-BzKiQ_oXR",
        "colab_type": "code",
        "outputId": "30e06b01-20b8-49cc-a3fa-be25196df2a8",
        "colab": {
          "base_uri": "https://localhost:8080/",
          "height": 1214
        }
      },
      "source": [
        "    correlacion = df_abandonos.corr() \n",
        "    fig, ax = plt.subplots(figsize=(21, 21)) \n",
        "    ax.matshow(correlacion) \n",
        "    plt.xticks(range(len(correlacion.columns)), correlacion.columns); \n",
        "    plt.yticks(range(len(correlacion.columns)), correlacion.columns); "
      ],
      "execution_count": 0,
      "outputs": [
        {
          "output_type": "display_data",
          "data": {
            "image/png": "[encoded data removed]",
            "text/plain": [
              "<Figure size 1512x1512 with 1 Axes>"
            ]
          },
          "metadata": {
            "tags": []
          }
        }
      ]
    },
    {
      "cell_type": "markdown",
      "metadata": {
        "id": "pN249dWcAP1m",
        "colab_type": "text"
      },
      "source": [
        "Es evidente que los cargos dependen de los minutos de conversación por lo que los pares de características x_calls x_Charge están muy correlacionadas entre sí"
      ]
    },
    {
      "cell_type": "code",
      "metadata": {
        "id": "SeszUHPCJZAy",
        "colab_type": "code",
        "outputId": "7074fed9-b1fe-47e3-c25b-a65c0bfd8f43",
        "colab": {
          "base_uri": "https://localhost:8080/",
          "height": 51
        }
      },
      "source": [
        "\n",
        "#Extraemos las etiquetas\n",
        "resultado_abandono = df_abandonos['Churn']\n",
        "y = np.where(resultado_abandono == 'yes',1,0)\n",
        "\n",
        "# No necesitamos estas columnas\n",
        "a_eliminar = ['State','Area_Code','Phone','Churn']\n",
        "churn_feat_space = df_abandonos.drop(a_eliminar,axis=1)\n",
        "\n",
        "yes_no_cols = [\"Intl_Plan\",\"Vmail_Plan\"]\n",
        "churn_feat_space[yes_no_cols] = churn_feat_space[yes_no_cols] == 'yes'\n",
        "\n",
        "\n",
        "# Extrarmos características para su uso posterior\n",
        "\n",
        "caracteristicas = churn_feat_space.columns\n",
        "\n",
        "X = churn_feat_space.as_matrix().astype(np.float)\n",
        "\n",
        "# Escalamos\n",
        "from sklearn.preprocessing import StandardScaler\n",
        "scaler = StandardScaler()\n",
        "X = scaler.fit_transform(X)\n",
        "\n",
        "print (\"Disponemos de %d observaciones y %d características\" % X.shape)\n",
        "print (\"Etiquetas objetivo únicas:\", np.unique(y))\n"
      ],
      "execution_count": 0,
      "outputs": [
        {
          "output_type": "stream",
          "text": [
            "Disponemos de 3333 observaciones y 17 características\n",
            "Etiquetas objetivo únicas: [0 1]\n"
          ],
          "name": "stdout"
        }
      ]
    },
    {
      "cell_type": "markdown",
      "metadata": {
        "id": "ZuTQEg8SeLMr",
        "colab_type": "text"
      },
      "source": [
        "## Validación cruzada de Algoritmos"
      ]
    },
    {
      "cell_type": "code",
      "metadata": {
        "id": "inFPkoqfeP_G",
        "colab_type": "code",
        "colab": {}
      },
      "source": [
        "from sklearn.model_selection import KFold\n",
        "\n",
        "def run_cv(X,y,clf_class,**kwargs):\n",
        "    # Construir el objeto Kfolds\n",
        "    kf = KFold(5)\n",
        "    y_pred = y.copy()\n",
        "\n",
        "    # Iterar por los Folds\n",
        "    for k, (train, test) in enumerate(kf.split(X, y)):\n",
        "        X_train, X_test = X[train], X[test]\n",
        "        y_train = y[train]\n",
        "        # Inicializar un clasificador con los argumentos clave\n",
        "        clf = clf_class(**kwargs)\n",
        "        clf.fit(X_train,y_train)\n",
        "        y_pred[test] = clf.predict(X_test)\n",
        "    return y_pred"
      ],
      "execution_count": 0,
      "outputs": []
    },
    {
      "cell_type": "markdown",
      "metadata": {
        "id": "VhX3UWBzemqW",
        "colab_type": "text"
      },
      "source": [
        "### Probamos los tres algoritmos"
      ]
    },
    {
      "cell_type": "code",
      "metadata": {
        "id": "J-Y2XAaSepSl",
        "colab_type": "code",
        "outputId": "2de70277-ef77-449d-8abf-47a6961ecb8b",
        "colab": {
          "base_uri": "https://localhost:8080/",
          "height": 119
        }
      },
      "source": [
        "from sklearn.svm import SVC\n",
        "from sklearn.ensemble import RandomForestClassifier as RF\n",
        "from sklearn.neighbors import KNeighborsClassifier as KNN\n",
        "\n",
        "def accuracy(y_true,y_pred):\n",
        "    # NumPy interprets True and False as 1. and 0.\n",
        "    return np.mean(y_true == y_pred)\n",
        "\n",
        "print (\"Support vector machines:\")\n",
        "print (\"%.3f\" % accuracy(y, run_cv(X,y,SVC)))\n",
        "print (\"Random forest:\")\n",
        "print (\"%.3f\" % accuracy(y, run_cv(X,y,RF)))\n",
        "print (\"K-nearest-neighbors:\")\n",
        "print (\"%.3f\" % accuracy(y, run_cv(X,y,KNN)))"
      ],
      "execution_count": 0,
      "outputs": [
        {
          "output_type": "stream",
          "text": [
            "Support vector machines:\n",
            "0.919\n",
            "Random forest:\n",
            "0.943\n",
            "K-nearest-neighbors:\n",
            "0.893\n"
          ],
          "name": "stdout"
        }
      ]
    },
    {
      "cell_type": "markdown",
      "metadata": {
        "id": "buNKSfSYgrdI",
        "colab_type": "text"
      },
      "source": [
        "### Matriz de Confusión"
      ]
    },
    {
      "cell_type": "code",
      "metadata": {
        "id": "aU-XKL_NgvIP",
        "colab_type": "code",
        "outputId": "0c779e3e-322d-4501-90c2-1ebed19e3ba2",
        "colab": {
          "base_uri": "https://localhost:8080/",
          "height": 51
        }
      },
      "source": [
        "from sklearn.metrics import confusion_matrix\n",
        "\n",
        "y = np.array(y)\n",
        "\n",
        "\n",
        "confusion_matrix(y,run_cv(X,y,SVC))\n"
      ],
      "execution_count": 0,
      "outputs": [
        {
          "output_type": "execute_result",
          "data": {
            "text/plain": [
              "array([[2815,   35],\n",
              "       [ 236,  247]])"
            ]
          },
          "metadata": {
            "tags": []
          },
          "execution_count": 19
        }
      ]
    },
    {
      "cell_type": "code",
      "metadata": {
        "id": "t48uueRChpes",
        "colab_type": "code",
        "outputId": "641f23bd-0979-4c2a-fad8-381475e59cc4",
        "colab": {
          "base_uri": "https://localhost:8080/",
          "height": 51
        }
      },
      "source": [
        "confusion_matrix(y,run_cv(X,y,RF)) \n"
      ],
      "execution_count": 0,
      "outputs": [
        {
          "output_type": "execute_result",
          "data": {
            "text/plain": [
              "array([[2828,   22],\n",
              "       [ 166,  317]])"
            ]
          },
          "metadata": {
            "tags": []
          },
          "execution_count": 20
        }
      ]
    },
    {
      "cell_type": "code",
      "metadata": {
        "id": "3KYLr2-Chpw3",
        "colab_type": "code",
        "outputId": "057b8eb7-136f-469e-c301-efa26f379810",
        "colab": {
          "base_uri": "https://localhost:8080/",
          "height": 51
        }
      },
      "source": [
        "confusion_matrix(y,run_cv(X,y,KNN))"
      ],
      "execution_count": 0,
      "outputs": [
        {
          "output_type": "execute_result",
          "data": {
            "text/plain": [
              "array([[2805,   45],\n",
              "       [ 312,  171]])"
            ]
          },
          "metadata": {
            "tags": []
          },
          "execution_count": 21
        }
      ]
    },
    {
      "cell_type": "markdown",
      "metadata": {
        "id": "oPIYf6Gth7Cx",
        "colab_type": "text"
      },
      "source": [
        "## Agregando las probabilidades"
      ]
    },
    {
      "cell_type": "code",
      "metadata": {
        "id": "UlHmIRLvh97h",
        "colab_type": "code",
        "colab": {}
      },
      "source": [
        "\n",
        "def run_prob_cv(X, y, clf_class, **kwargs):\n",
        "    kf = KFold(5)\n",
        "    y_prob = np.zeros((len(y),2))\n",
        "    for k, (train, test) in enumerate(kf.split(X, y)):\n",
        "        X_train, X_test = X[train], X[test]\n",
        "        y_train = y[train]\n",
        "        clf = clf_class(**kwargs)\n",
        "        clf.fit(X_train,y_train)\n",
        "        # Predict probabilities, not classes\n",
        "        y_prob[test] = clf.predict_proba(X_test)\n",
        "    return y_prob"
      ],
      "execution_count": 0,
      "outputs": []
    },
    {
      "cell_type": "code",
      "metadata": {
        "id": "ePYykOyCib79",
        "colab_type": "code",
        "outputId": "3d9ff5e9-2e33-4557-ae37-c5ab37d16409",
        "colab": {
          "base_uri": "https://localhost:8080/",
          "height": 390
        }
      },
      "source": [
        "# Cómo podemos comprobar la validez de estas probabilidades??\n",
        "\n",
        "import warnings\n",
        "warnings.filterwarnings('ignore')\n",
        "\n",
        "# Usar 10 estimadores por lo que las predicciones son todas múltiplos de 0.1\n",
        "pred_prob = run_prob_cv(X, y, RF, n_estimators=10)\n",
        "pred_churn = pred_prob[:,1]\n",
        "is_churn = y == 1\n",
        "\n",
        "# Número de veces que na probabilidad predecida es asignada a una observación\n",
        "counts = pd.value_counts(pred_churn)\n",
        "\n",
        "# Cálculo de probabilidades verdaderas\n",
        "true_prob = {}\n",
        "for prob in counts.index:\n",
        "    true_prob[prob] = np.mean(is_churn[pred_churn == prob])\n",
        "    true_prob = pd.Series(true_prob)\n",
        "\n",
        "#ordenación de resultados\n",
        "counts = pd.concat([counts,true_prob], axis=1).reset_index()\n",
        "counts.columns = ['pred_prob', 'count', 'true_prob']\n",
        "counts"
      ],
      "execution_count": 0,
      "outputs": [
        {
          "output_type": "execute_result",
          "data": {
            "text/html": [
              "<div>\n",
              "<style scoped>\n",
              "    .dataframe tbody tr th:only-of-type {\n",
              "        vertical-align: middle;\n",
              "    }\n",
              "\n",
              "    .dataframe tbody tr th {\n",
              "        vertical-align: top;\n",
              "    }\n",
              "\n",
              "    .dataframe thead th {\n",
              "        text-align: right;\n",
              "    }\n",
              "</style>\n",
              "<table border=\"1\" class=\"dataframe\">\n",
              "  <thead>\n",
              "    <tr style=\"text-align: right;\">\n",
              "      <th></th>\n",
              "      <th>pred_prob</th>\n",
              "      <th>count</th>\n",
              "      <th>true_prob</th>\n",
              "    </tr>\n",
              "  </thead>\n",
              "  <tbody>\n",
              "    <tr>\n",
              "      <th>0</th>\n",
              "      <td>0.0</td>\n",
              "      <td>1772</td>\n",
              "      <td>0.024831</td>\n",
              "    </tr>\n",
              "    <tr>\n",
              "      <th>1</th>\n",
              "      <td>0.1</td>\n",
              "      <td>719</td>\n",
              "      <td>0.031989</td>\n",
              "    </tr>\n",
              "    <tr>\n",
              "      <th>2</th>\n",
              "      <td>0.2</td>\n",
              "      <td>256</td>\n",
              "      <td>0.058594</td>\n",
              "    </tr>\n",
              "    <tr>\n",
              "      <th>3</th>\n",
              "      <td>0.3</td>\n",
              "      <td>102</td>\n",
              "      <td>0.166667</td>\n",
              "    </tr>\n",
              "    <tr>\n",
              "      <th>4</th>\n",
              "      <td>0.4</td>\n",
              "      <td>83</td>\n",
              "      <td>0.337349</td>\n",
              "    </tr>\n",
              "    <tr>\n",
              "      <th>5</th>\n",
              "      <td>0.9</td>\n",
              "      <td>81</td>\n",
              "      <td>0.950617</td>\n",
              "    </tr>\n",
              "    <tr>\n",
              "      <th>6</th>\n",
              "      <td>0.8</td>\n",
              "      <td>79</td>\n",
              "      <td>0.974684</td>\n",
              "    </tr>\n",
              "    <tr>\n",
              "      <th>7</th>\n",
              "      <td>1.0</td>\n",
              "      <td>67</td>\n",
              "      <td>1.000000</td>\n",
              "    </tr>\n",
              "    <tr>\n",
              "      <th>8</th>\n",
              "      <td>0.6</td>\n",
              "      <td>63</td>\n",
              "      <td>0.698413</td>\n",
              "    </tr>\n",
              "    <tr>\n",
              "      <th>9</th>\n",
              "      <td>0.7</td>\n",
              "      <td>58</td>\n",
              "      <td>0.896552</td>\n",
              "    </tr>\n",
              "    <tr>\n",
              "      <th>10</th>\n",
              "      <td>0.5</td>\n",
              "      <td>53</td>\n",
              "      <td>0.735849</td>\n",
              "    </tr>\n",
              "  </tbody>\n",
              "</table>\n",
              "</div>"
            ],
            "text/plain": [
              "    pred_prob  count  true_prob\n",
              "0         0.0   1772   0.024831\n",
              "1         0.1    719   0.031989\n",
              "2         0.2    256   0.058594\n",
              "3         0.3    102   0.166667\n",
              "4         0.4     83   0.337349\n",
              "5         0.9     81   0.950617\n",
              "6         0.8     79   0.974684\n",
              "7         1.0     67   1.000000\n",
              "8         0.6     63   0.698413\n",
              "9         0.7     58   0.896552\n",
              "10        0.5     53   0.735849"
            ]
          },
          "metadata": {
            "tags": []
          },
          "execution_count": 23
        }
      ]
    }
  ]
}