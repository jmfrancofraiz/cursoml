{
  "nbformat": 4,
  "nbformat_minor": 0,
  "metadata": {
    "colab": {
      "name": "Laboratorio 03 Analizando los datos del Titanic Solucion limpia.ipynb",
      "version": "0.3.2",
      "provenance": [],
      "collapsed_sections": [],
      "toc_visible": true
    },
    "kernelspec": {
      "display_name": "Python 2",
      "language": "python",
      "name": "python2"
    }
  },
  "cells": [
    {
      "cell_type": "markdown",
      "metadata": {
        "id": "y2h3h-iIIlRz",
        "colab_type": "text"
      },
      "source": [
        "![SolidQ](https://www.solidq.com/wp-content/uploads/2015/06/Logo-SolidQ-Web.gif)\n",
        "# Analizando los datos del hundimiento del Titanic\n",
        "\n",
        "\n",
        "A lo largo de este laboratorio analizaremos el conjunto de datos del hundimiento del Titanic. En la [web de Kaggle](https://www.kaggle.com/c/titanic) podremos encontrar más información sobre las diferentes variables que contiene el dataset. \n",
        "\n",
        "En esta primera toma de contacto con el Conjunto de Datos nos centraremos en:\n",
        "\n",
        " 1. Primeros pasos con el dataset\n",
        " 2. Exploración del dataset y generación de estadísticas\n",
        " 3. Presentación de resultados"
      ]
    },
    {
      "cell_type": "markdown",
      "metadata": {
        "id": "BI9hpKBoIlR2",
        "colab_type": "text"
      },
      "source": [
        "### Cargando el conjunto de datos y obteniendo información básica:\n",
        "El objetivo de esta sección es que nos familiarizemos con Pandas y seamos capaces de manipular el dataset a nuestro interés.\n",
        "\n",
        "utilizaremos para este caso el fichero titanic_data.csv"
      ]
    },
    {
      "cell_type": "code",
      "metadata": {
        "id": "G8Ly3MHvIlR4",
        "colab_type": "code",
        "colab": {}
      },
      "source": [
        "import pandas\n",
        "import numpy as np\n",
        "\n",
        "\n",
        "input_file = 'titanic_data.csv'\n",
        "separador = \",\"\n",
        "dataset = pandas.read_csv(filepath_or_buffer=input_file, sep=separador)"
      ],
      "execution_count": 0,
      "outputs": []
    },
    {
      "cell_type": "markdown",
      "metadata": {
        "id": "7NBqkrG3k_Dy",
        "colab_type": "text"
      },
      "source": [
        "# Creando el Modelo\n",
        "\n",
        "En esta seción vamos a trabajar en la creación de un modelo que sirva para determinar si un pasajero va a sobrevivir o no. Lo primero que haremos será crear nuestro propio modelo en función de las conclusiones que hemos sacado, y después lo compararemos con un árbol de decision que entrenaremos con el dataset.\n",
        "\n",
        "Lo primero que vamos a definir es el score accuracy para medir la calidad de nuestros resultados:\n",
        "\n"
      ]
    },
    {
      "cell_type": "code",
      "metadata": {
        "id": "Wk1JAFCiVlLT",
        "colab_type": "code",
        "colab": {}
      },
      "source": [
        "def accuracy_score(truth, pred):\n",
        "    \"\"\" Devuelve accuracy score comparando valores predichos (pred) contra reales (truth) de forma manual \"\"\"\n",
        "    \n",
        "    \n",
        "    if len(truth) == len(pred): \n",
        "        \n",
        "        \n",
        "        return \"Predicciones tienen una tase de acierto de de {:.2f}%.\".format((truth == pred).mean()*100)\n",
        "    \n",
        "    else:\n",
        "        return \"El número de predicciones no es igual al numero de valores reales!\""
      ],
      "execution_count": 0,
      "outputs": []
    },
    {
      "cell_type": "markdown",
      "metadata": {
        "id": "4ocnQC4OlMcT",
        "colab_type": "text"
      },
      "source": [
        "Lo siguiente que vamos a hacer es eliminar la columa 'Survived' del dataset y marcarla como etiqueta a predecir"
      ]
    },
    {
      "cell_type": "code",
      "metadata": {
        "id": "D87O_P7FlPpY",
        "colab_type": "code",
        "colab": {}
      },
      "source": [
        "# 'Survived' será nuestra etiqueta y el valor que queremos predecir:\n",
        "y = dataset['Survived']\n",
        "X = dataset.drop(['Survived','Name','Ticket','Cabin','Embarked','PassengerId'], axis = 1)\n",
        "\n",
        "X['Sex'] = X['Sex'].apply(lambda x: 1. if x == 'female' else 0.)\n",
        "\n",
        "# Representar las primeras 5 filas para comprobar los cambios\n",
        "\n",
        "print X.head()"
      ],
      "execution_count": 0,
      "outputs": []
    },
    {
      "cell_type": "code",
      "metadata": {
        "id": "6YiC42vQE4qV",
        "colab_type": "code",
        "colab": {}
      },
      "source": [
        "from sklearn.model_selection import train_test_split\n",
        "\n",
        "X_train,X_test,y_train,y_test = train_test_split(X, y, test_size = 0.3, random_state = 0,stratify=y)\n"
      ],
      "execution_count": 0,
      "outputs": []
    },
    {
      "cell_type": "code",
      "metadata": {
        "id": "uvGXiLYdFKvE",
        "colab_type": "code",
        "colab": {}
      },
      "source": [
        "# Definir el arbol de decision\n",
        "from sklearn import tree\n",
        "clf = tree.DecisionTreeClassifier(max_features=3,max_depth=2)"
      ],
      "execution_count": 0,
      "outputs": []
    },
    {
      "cell_type": "code",
      "metadata": {
        "id": "ICyVlcygHm9N",
        "colab_type": "code",
        "colab": {}
      },
      "source": [
        "# Entrenarlo con los datos de train\n",
        "clf = clf.fit(X_train, y_train)\n",
        "\n",
        "# Crear predicciones\n",
        "predictions = clf.predict(X_test)\n",
        "\n",
        "# Obtener resultado:\n",
        "accuracy_score(y_test, predictions)\n"
      ],
      "execution_count": 0,
      "outputs": []
    },
    {
      "cell_type": "code",
      "metadata": {
        "id": "Iq1MUftOtSQN",
        "colab_type": "code",
        "colab": {}
      },
      "source": [
        "from sklearn.metrics import classification_report\n",
        "from sklearn.metrics import confusion_matrix\n",
        "\n",
        "print(confusion_matrix(y_test, predictions))\n",
        "print(classification_report(y_test, predictions))"
      ],
      "execution_count": 0,
      "outputs": []
    },
    {
      "cell_type": "markdown",
      "metadata": {
        "id": "gNuxTf-5lnvz",
        "colab_type": "text"
      },
      "source": [
        "Representamos el árbol de decisión"
      ]
    },
    {
      "cell_type": "code",
      "metadata": {
        "id": "qQTF-v5Ilq0c",
        "colab_type": "code",
        "colab": {}
      },
      "source": [
        "from sklearn.externals.six import StringIO  \n",
        "from IPython.display import Image  \n",
        "from sklearn.tree import export_graphviz\n",
        "import pydotplus\n",
        "dot_data = StringIO()\n",
        "export_graphviz(clf, out_file=dot_data,  \n",
        "                filled=True, rounded=True,\n",
        "                special_characters=True)\n",
        "graph = pydotplus.graph_from_dot_data(dot_data.getvalue())  \n",
        "Image(graph.create_png())"
      ],
      "execution_count": 0,
      "outputs": []
    },
    {
      "cell_type": "markdown",
      "metadata": {
        "id": "KHaYJgQslZQ9",
        "colab_type": "text"
      },
      "source": [
        "Podríamos mejorar el siguiente modelo?"
      ]
    },
    {
      "cell_type": "code",
      "metadata": {
        "id": "BzzzfOmpZoWH",
        "colab_type": "code",
        "colab": {}
      },
      "source": [
        "#con un k-NN\n",
        "from sklearn.neighbors import KNeighborsClassifier\n",
        "knn = KNeighborsClassifier()\n",
        "knn.fit(X_train, y_train)\n",
        "print('Accuracy of K-NN classifier on training set: {:.2f}'\n",
        "     .format(knn.score(X_train, y_train)))\n",
        "print('Accuracy of K-NN classifier on test set: {:.2f}'\n",
        "     .format(knn.score(X_test, y_test)))"
      ],
      "execution_count": 0,
      "outputs": []
    },
    {
      "cell_type": "code",
      "metadata": {
        "id": "MX3ZsVeNgBLM",
        "colab_type": "code",
        "colab": {}
      },
      "source": [
        "from sklearn.linear_model import LogisticRegression\n",
        "logreg = LogisticRegression()\n",
        "logreg.fit(X_train, y_train)\n",
        "print('Accuracy of Logistic regression classifier on training set: {:.2f}'\n",
        "     .format(logreg.score(X_train, y_train)))\n",
        "print('Accuracy of Logistic regression classifier on test set: {:.2f}'\n",
        "     .format(logreg.score(X_test, y_test)))"
      ],
      "execution_count": 0,
      "outputs": []
    },
    {
      "cell_type": "code",
      "metadata": {
        "id": "3YZJNvp9gvnp",
        "colab_type": "code",
        "colab": {}
      },
      "source": [
        "from sklearn.model_selection import train_test_split\n",
        "\n",
        "X_train,X_test,y_train,y_test = train_test_split(X, y, test_size = 0.2, random_state = 0,stratify=y)\n"
      ],
      "execution_count": 0,
      "outputs": []
    },
    {
      "cell_type": "code",
      "metadata": {
        "id": "oTHeCoLogSWB",
        "colab_type": "code",
        "colab": {}
      },
      "source": [
        "from sklearn.svm import SVC\n",
        "svm = SVC()\n",
        "svm.fit(X_train, y_train)\n",
        "print('Accuracy of SVM classifier on training set: {:.2f}'\n",
        "     .format(svm.score(X_train, y_train)))\n",
        "print('Accuracy of SVM classifier on test set: {:.2f}'\n",
        "     .format(svm.score(X_test, y_test)))"
      ],
      "execution_count": 0,
      "outputs": []
    }
  ]
}