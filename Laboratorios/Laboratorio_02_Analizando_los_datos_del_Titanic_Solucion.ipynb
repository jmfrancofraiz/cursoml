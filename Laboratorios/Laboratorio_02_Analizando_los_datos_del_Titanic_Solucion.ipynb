{
  "nbformat": 4,
  "nbformat_minor": 0,
  "metadata": {
    "colab": {
      "name": "Laboratorio 02 - Analizando los datos del Titanic Solucion.ipynb",
      "version": "0.3.2",
      "provenance": [],
      "collapsed_sections": [],
      "include_colab_link": true
    },
    "kernelspec": {
      "display_name": "Python 2",
      "language": "python",
      "name": "python2"
    }
  },
  "cells": [
    {
      "cell_type": "markdown",
      "metadata": {
        "id": "view-in-github",
        "colab_type": "text"
      },
      "source": [
        "<a href=\"https://colab.research.google.com/github/antoniosql/cursoml/blob/master/Laboratorios/Laboratorio_02_Analizando_los_datos_del_Titanic_Solucion.ipynb\" target=\"_parent\"><img src=\"https://colab.research.google.com/assets/colab-badge.svg\" alt=\"Open In Colab\"/></a>"
      ]
    },
    {
      "metadata": {
        "id": "y2h3h-iIIlRz",
        "colab_type": "text"
      },
      "cell_type": "markdown",
      "source": [
        "![SolidQ](https://www.solidq.com/wp-content/uploads/2015/06/Logo-SolidQ-Web.gif)\n",
        "# Analizando los datos del hundimiento del Titanic\n",
        "\n",
        "\n",
        "A lo largo de este laboratorio analizaremos el conjunto de datos del hundimiento del Titanic. En la [web de Kaggle](https://www.kaggle.com/c/titanic) podremos encontrar más información sobre las diferentes variables que contiene el dataset. \n",
        "\n",
        "En esta primera toma de contacto con el Conjunto de Datos nos centraremos en:\n",
        "\n",
        " 1. Primeros pasos con el dataset\n",
        " 2. Exploración del dataset y generación de estadísticas\n",
        " 3. Presentación de resultados"
      ]
    },
    {
      "metadata": {
        "id": "BI9hpKBoIlR2",
        "colab_type": "text"
      },
      "cell_type": "markdown",
      "source": [
        "### Cargando el conjunto de datos y obteniendo información básica:\n",
        "El objetivo de esta sección es que nos familiarizemos con Pandas y seamos capaces de manipular el dataset a nuestro interés.\n",
        "\n",
        "utilizaremos para este caso el fichero titanic_data.csv"
      ]
    },
    {
      "metadata": {
        "id": "G8Ly3MHvIlR4",
        "colab_type": "code",
        "colab": {}
      },
      "cell_type": "code",
      "source": [
        "import pandas\n",
        "\n",
        "input_file = 'titanic_data.csv'\n",
        "separador = \",\"\n",
        "dataset = pandas.read_csv(filepath_or_buffer=input_file, sep=separador)"
      ],
      "execution_count": 0,
      "outputs": []
    },
    {
      "metadata": {
        "id": "Jl9hgRdOIlR-",
        "colab_type": "text"
      },
      "cell_type": "markdown",
      "source": [
        "Ahora que ya tenemos el conjunto de datos cargado en memoria vamos a analizarlo un poco. En esta tarea intenta generar el código necesario para responder a las siguiente preguntas:\n",
        "\n",
        " * ¿Cuantas filas y columnas contiene el dataset?\n",
        " * ¿Cual es el nombre de las columnas que incluye el dataset?\n",
        " * ¿Qué información contiene la primera fila del dataset?¿Y la última?\n"
      ]
    },
    {
      "metadata": {
        "id": "5ai_yQ5wIlR_",
        "colab_type": "code",
        "colab": {}
      },
      "cell_type": "code",
      "source": [
        "print \"El numero de filas y columnas que incluye el dataset es: \",dataset.shape\n",
        "print \"\\nLos nombres de las columnas son: \\n\",dataset.columns\n",
        "print \"\\nLa primera fila del dataset es: \\n\",dataset.head(1)\n",
        "print \"\\nLa última fila del dataset es: \\n\",dataset.tail(1)"
      ],
      "execution_count": 0,
      "outputs": []
    },
    {
      "metadata": {
        "id": "7TN-y-YAIlSz",
        "colab_type": "text"
      },
      "cell_type": "markdown",
      "source": [
        "Vamos a operar con nuestro dataset. Por ejemplo vamos a seleccionar las columnas: Name, Sex, Age y las filas de la 3 a la 5:"
      ]
    },
    {
      "metadata": {
        "id": "c9W0wL0LIlS0",
        "colab_type": "code",
        "colab": {}
      },
      "cell_type": "code",
      "source": [
        "\n",
        "print \"Imprimir las filas 3 a 5 y columnas Name, Sex, Age\\n\", dataset.loc[[3,4,5],['Name','Sex','Age']]"
      ],
      "execution_count": 0,
      "outputs": []
    },
    {
      "metadata": {
        "id": "OHmx_7lGIlS9",
        "colab_type": "text"
      },
      "cell_type": "markdown",
      "source": [
        "Sin embargo, ahora quiero seleccionar las 4 primeras filas del dataset y la tercera y cuarta columnas:"
      ]
    },
    {
      "metadata": {
        "id": "zDAOE4xwIlS_",
        "colab_type": "code",
        "colab": {}
      },
      "cell_type": "code",
      "source": [
        "print \"Imprimir las 4 primeras filas y columnas tercera y cuarta\\n\", dataset.iloc[:4,[2,3]]"
      ],
      "execution_count": 0,
      "outputs": []
    },
    {
      "metadata": {
        "id": "iBAAk4iNIlTD",
        "colab_type": "text"
      },
      "cell_type": "markdown",
      "source": [
        "Perfecto!, ya sabemos seleccionar filas y columnas!, ahora el objetivo es hacer modificaciones. Por ejemplo cambiemos a Allen, Mr. William Henry su edad (actualmente 54 años) por 260. Para ello tendremos que seleccionar la fila en la que la columna 'Name' sea igual a 'Allen, Mr. William Henry', de la siguiente manera:"
      ]
    },
    {
      "metadata": {
        "id": "8tHHrU7MIlTM",
        "colab_type": "text"
      },
      "cell_type": "markdown",
      "source": [
        "Para modificar este valor, tendremos que asignarle el que queremos (260):"
      ]
    },
    {
      "metadata": {
        "id": "gWZZh0taIlTN",
        "colab_type": "code",
        "colab": {}
      },
      "cell_type": "code",
      "source": [
        "# Asignar nueva edad al pobre Allen:\n",
        "print \"Edad de Allen, Mr. William Henry:\\n \", dataset.loc[dataset['Name'].isin(['Allen, Mr. William Henry']),'Age']\n",
        "dataset.loc[dataset['Name']=='Allen, Mr. William Henry','Age'] = 260\n"
      ],
      "execution_count": 0,
      "outputs": []
    },
    {
      "metadata": {
        "id": "DNwSlaVlIlTV",
        "colab_type": "text"
      },
      "cell_type": "markdown",
      "source": [
        "¿Cual es ahora la edad de Allen?"
      ]
    },
    {
      "metadata": {
        "id": "nlKGxH-lIlTZ",
        "colab_type": "code",
        "colab": {}
      },
      "cell_type": "code",
      "source": [
        "print \"La nueva edad de Allen, Mr. William Henry:\\n \", dataset.loc[dataset['Name']=='Allen, Mr. William Henry','Age']"
      ],
      "execution_count": 0,
      "outputs": []
    },
    {
      "metadata": {
        "id": "Q1RHIg6CIlTd",
        "colab_type": "text"
      },
      "cell_type": "markdown",
      "source": [
        "Como vemos, ya hemos editado su edad!. Aunque le devolveremos a los 54 años, a estas alturas ya sabemos seleccionar subsets de datos y editarlos si lo necesitamos."
      ]
    },
    {
      "metadata": {
        "id": "qLwWK8ncIlTf",
        "colab_type": "code",
        "colab": {}
      },
      "cell_type": "code",
      "source": [
        "# Devolvamos a Allen su edad:\n",
        "dataset.loc[dataset['Name']=='Allen, Mr. William Henry','Age'] = 54"
      ],
      "execution_count": 0,
      "outputs": []
    },
    {
      "metadata": {
        "id": "Sl2H2iJHIlTi",
        "colab_type": "text"
      },
      "cell_type": "markdown",
      "source": [
        "### Exploración del dataset y generación de estadísticas\n",
        "¿Qué sabemos por ahora de nuestros datos? Practicamente nada!. Vamos a utilizar una serie de funciones que se incluyen en Pandas para obtener facilmente valiosa información de los mismos. \n",
        "\n",
        "El primera información que se ha de obtener cuando por primera vez se trabaja con un dataset es la cantidad de ```NAN``` incluidos en el mismo, para ello utilizaremos la función ```.info()``` de Pandas:"
      ]
    },
    {
      "metadata": {
        "id": "qpJMNmcWIlTj",
        "colab_type": "code",
        "colab": {}
      },
      "cell_type": "code",
      "source": [
        "# Obtener información sobre el número de valores NAN que se incluyen en el dataset:\n",
        "print dataset.info()\n"
      ],
      "execution_count": 0,
      "outputs": []
    },
    {
      "metadata": {
        "id": "JEvA-BftIlTp",
        "colab_type": "text"
      },
      "cell_type": "markdown",
      "source": [
        "¿Qué columnas incluyen valores nulos?: Cabin incluye 272 valores no NAN y Embarked 2 NANs"
      ]
    },
    {
      "metadata": {
        "id": "9r16f4AkIlTs",
        "colab_type": "text"
      },
      "cell_type": "markdown",
      "source": [
        "OK OK, vamos a empezar a mirar el dataset de manera que podamos responder a nuestra pregunta principal: ¿Qué factores influyeron en la supervivencia del Titanic?\n",
        "\n",
        "Pues bien, Pandas incluye la función ```.describe()``` la cual permite obtener estadísticas básicas sobre las distintas columans del dataset: "
      ]
    },
    {
      "metadata": {
        "id": "oc1q46qUIlTu",
        "colab_type": "code",
        "colab": {}
      },
      "cell_type": "code",
      "source": [
        "print \"Imprimir estadísticas básicas del dataset: \\n\", dataset.describe()"
      ],
      "execution_count": 0,
      "outputs": []
    },
    {
      "metadata": {
        "id": "j6-c48siIlTy",
        "colab_type": "text"
      },
      "cell_type": "markdown",
      "source": [
        "Aquí ya tenemos información útil!!!, ya podemos responder a las siguientes preguntas:\n",
        " * ¿Qué porcentaje de supervivientes hubo? %\n",
        " * ¿Cual era la media de edad? \n",
        " * ¿Cual fue el ticket (Fare) más caro pagado?¿Y el que menos?  y \n",
        " * ¿Cuantas clases (Pclass) incluye el barco?"
      ]
    },
    {
      "metadata": {
        "id": "qGCyPF2ZIlTz",
        "colab_type": "text"
      },
      "cell_type": "markdown",
      "source": [
        "No echais de menos una columna? 'Sex' no esta incluida en este análisis, porque? Si os fijais en la información de ```.info()``` aquí solo se han incluido las columnas numéricas (float o int64). vamos a echar un vistazo a 'Sex' para entender el formato que tiene:"
      ]
    },
    {
      "metadata": {
        "id": "LdIzCe0WIlT0",
        "colab_type": "code",
        "colab": {}
      },
      "cell_type": "code",
      "source": [
        "print dataset.Sex.head()"
      ],
      "execution_count": 0,
      "outputs": []
    },
    {
      "metadata": {
        "id": "JxbjUINQIlT7",
        "colab_type": "text"
      },
      "cell_type": "markdown",
      "source": [
        "Como vemos \"male\" y \"female\" son los valores incluidos, comprobemos que estos son los únicos valores que se incluyen para todo el dataset"
      ]
    },
    {
      "metadata": {
        "id": "DiRNbNjNIlT9",
        "colab_type": "code",
        "colab": {}
      },
      "cell_type": "code",
      "source": [
        "# Imprimimos todos los valores de Sex en el dataset:\n",
        "print dataset.Sex.unique()"
      ],
      "execution_count": 0,
      "outputs": []
    },
    {
      "metadata": {
        "id": "ZkUa-ngOIlUG",
        "colab_type": "text"
      },
      "cell_type": "markdown",
      "source": [
        "Como este formato nos impide trabajar con la función ```.describe()```, vamos a transformar esta columna en otros valores que nos sean de más utilidad. "
      ]
    },
    {
      "metadata": {
        "id": "ZA7qVu5cIlUL",
        "colab_type": "code",
        "colab": {}
      },
      "cell_type": "code",
      "source": [
        "# definir functión que haga el cambio:\n",
        "def gender_number(gender):\n",
        "    if gender == 'male': return 0.\n",
        "    return 1.\n",
        "\n",
        "# Aplicar el cambio a todas las filas con la función Apply:\n",
        "dataset.Sex = dataset.Sex.apply(lambda x:gender_number(x))"
      ],
      "execution_count": 0,
      "outputs": []
    },
    {
      "metadata": {
        "id": "AkUux42iIlUS",
        "colab_type": "text"
      },
      "cell_type": "markdown",
      "source": [
        "¿Que aspecto tiene ahora 'Sex'?"
      ]
    },
    {
      "metadata": {
        "id": "HKEY805bIlUV",
        "colab_type": "code",
        "colab": {}
      },
      "cell_type": "code",
      "source": [
        "# Imprimimos todos los valores de Sex en el dataset:\n",
        "print dataset.Sex.unique()"
      ],
      "execution_count": 0,
      "outputs": []
    },
    {
      "metadata": {
        "id": "60Z58L2RIlUc",
        "colab_type": "text"
      },
      "cell_type": "markdown",
      "source": [
        "Bien!, ejecutemos ahora ```.describe()``` de nuevo sobre la columna 'Sex'"
      ]
    },
    {
      "metadata": {
        "id": "py5hLxHMIlUf",
        "colab_type": "code",
        "colab": {}
      },
      "cell_type": "code",
      "source": [
        "# Obtengamos estadísticas de 'Sex'\n",
        "print dataset.Sex.describe()"
      ],
      "execution_count": 0,
      "outputs": []
    },
    {
      "metadata": {
        "id": "Q1PmOq8XIlUl",
        "colab_type": "text"
      },
      "cell_type": "markdown",
      "source": [
        "Vaya, parece que no ayuda a entender como están distribuidos los sexos? Parece que no."
      ]
    },
    {
      "metadata": {
        "id": "JdRAcO59IlUn",
        "colab_type": "code",
        "colab": {}
      },
      "cell_type": "code",
      "source": [
        "# Obtener el recuento de hombres y mujeres en el barco:\n",
        "print dataset.groupby('Sex').count().iloc[:,1]"
      ],
      "execution_count": 0,
      "outputs": []
    },
    {
      "metadata": {
        "id": "QCTMsqqBIlUt",
        "colab_type": "text"
      },
      "cell_type": "markdown",
      "source": [
        "¿Cuantos hombres y mujeres había? 388 mujeres y 657 hombres"
      ]
    },
    {
      "metadata": {
        "id": "rRkBb5saIlUv",
        "colab_type": "text"
      },
      "cell_type": "markdown",
      "source": [
        "Hagamos una cosa ahora, con el objetivo de entender como están distribuidos los pasajeros por edades vamos a crear una nueva columna llamada 'Age_ranges' que incluya el rango de edad a la que cada pasajero corresponde. El objetivo será obtener cuantos pasajeros hay en el rango [0-10), [10,20) .... "
      ]
    },
    {
      "metadata": {
        "id": "Ij2KkDlFIlUw",
        "colab_type": "code",
        "colab": {}
      },
      "cell_type": "code",
      "source": [
        "# Function para generar los rangos de edad:\n",
        "def age_ranges(x):\n",
        "    return '[{0}-{1})'.format(10*int(x/10), 10 +10*int(x/10))\n",
        "\n",
        "# Crear nueva columna:\n",
        "dataset['Age_ranges'] = np.nan\n",
        "\n",
        "# Asignar los valores rangos de edad correspondientes:\n",
        "dataset['Age_ranges'] = dataset.Age.apply(lambda x: age_ranges(x))\n",
        "\n",
        "# Comprobar que las cosas funcionan como se espera:\n",
        "print dataset[['Age_ranges','Age']].head(10)"
      ],
      "execution_count": 0,
      "outputs": []
    },
    {
      "metadata": {
        "id": "4E6bGsZPIlU1",
        "colab_type": "text"
      },
      "cell_type": "markdown",
      "source": [
        "¿Cómo están distribuidos los pasajeros por rangos de edad en el barco?"
      ]
    },
    {
      "metadata": {
        "id": "dbMq51JxIlU3",
        "colab_type": "code",
        "colab": {}
      },
      "cell_type": "code",
      "source": [
        "# Imprimir distribución de rangos de edad en el barco:\n",
        "print dataset.groupby('Age_ranges').count().iloc[:,1]"
      ],
      "execution_count": 0,
      "outputs": []
    },
    {
      "metadata": {
        "id": "I5uKNXelIlU9",
        "colab_type": "text"
      },
      "cell_type": "markdown",
      "source": [
        "¿Cuantos niños menores de 10 años hay incluidos? 82\n",
        "\n",
        "Y ahora... ¿Quien sabría decir como están distribuidos los pasajeros por edades y sexos?"
      ]
    },
    {
      "metadata": {
        "id": "tuLyjuLyIlVC",
        "colab_type": "code",
        "colab": {}
      },
      "cell_type": "code",
      "source": [
        "# Imprimir distribución de rangos de edad en el barco por sexo:\n",
        "print dataset.groupby(['Sex','Age_ranges']).count().iloc[:,1]\n"
      ],
      "execution_count": 0,
      "outputs": []
    },
    {
      "metadata": {
        "id": "MGLKSngeIlVK",
        "colab_type": "text"
      },
      "cell_type": "markdown",
      "source": [
        "Creo que llegados a este punto, ya no deberíamos tener problemas en sacar los factores que influyeron en la supervivencia de los pasajeros en el Titanic. Por ejemplo, ¿como se distribuyen los supervivientes por sexo?, ¿y por edades, clase, precio del billete, etc?"
      ]
    },
    {
      "metadata": {
        "id": "pWTSR6LDIlVL",
        "colab_type": "code",
        "colab": {}
      },
      "cell_type": "code",
      "source": [
        "# Distribución de supervivientes por edades:\n",
        "print dataset.groupby(['Survived','Age_ranges']).count().iloc[:,1]\n",
        "# Distribución de supervivientes por sexo:\n",
        "print dataset.groupby(['Survived','Sex']).count().iloc[:,1]\n",
        "# Distribución de supervivientes por clase:\n",
        "print dataset.groupby(['Survived','Pclass']).count().iloc[:,1]"
      ],
      "execution_count": 0,
      "outputs": []
    },
    {
      "metadata": {
        "id": "g4ruE923IlVU",
        "colab_type": "text"
      },
      "cell_type": "markdown",
      "source": [
        "Bueno, ya tenemos el número de pasajeros que sobrevivieron por edad, sexo y clase, pero lo ideal (y esperado) es tener el porcentage de supervivencia por edad, sexo, clase, etc. \n",
        "\n",
        "Por ejemplo, el porcentaje de superviviencia por edades lo podemos calcular de la siguiente manera:\n",
        "\n",
        "**NOTA**: Un pasajero que sobrevive tiene valor 1, con lo cual, si sobreviven 5 pasajeros de 10, la media será igual al porcentaje de supervivencia."
      ]
    },
    {
      "metadata": {
        "id": "zq2500DcIlVW",
        "colab_type": "code",
        "colab": {}
      },
      "cell_type": "code",
      "source": [
        "# Porcentaje de supervivientes por edad:\n",
        "print dataset.groupby('Age_ranges').mean().loc[:,'Survived']\n"
      ],
      "execution_count": 0,
      "outputs": []
    },
    {
      "metadata": {
        "id": "NKQgudvjIlVd",
        "colab_type": "text"
      },
      "cell_type": "markdown",
      "source": [
        "OK, ¿Cuales son los porcentajes de superviviencia por edades, edades y sexos, y demás combinaciones que se te ocurran? "
      ]
    },
    {
      "metadata": {
        "id": "E_dCcPPFIlVf",
        "colab_type": "code",
        "colab": {}
      },
      "cell_type": "code",
      "source": [
        "# Porcentaje de supervivientes por Sexo:\n",
        "print dataset.groupby('Sex').mean().loc[:,'Survived']\n",
        "# Porcentaje de supervivientes por Pclass:\n",
        "print dataset.groupby('Pclass').mean().loc[:,'Survived']\n",
        "# Porcentaje de supervivientes por Sexo y edad:\n",
        "print dataset.groupby(['Sex','Age_ranges']).mean().loc[:,'Survived']\n",
        "# Porcentaje de supervivientes por Sexo y Pclass:\n",
        "print dataset.groupby(['Sex','Pclass']).mean().loc[:,'Survived']\n",
        "# Porcentaje de supervivientes por Sexo y Age_ranges:\n",
        "print dataset.groupby(['Pclass','Age_ranges']).mean().loc[:,'Survived']"
      ],
      "execution_count": 0,
      "outputs": []
    },
    {
      "metadata": {
        "id": "YAOQv8U0IlVn",
        "colab_type": "text"
      },
      "cell_type": "markdown",
      "source": [
        "Ahora si!, ¿Que factores influyeron principalmente en la supervivencia de los pasajeros?\n",
        "* \n",
        "* \n",
        "* "
      ]
    },
    {
      "metadata": {
        "id": "fS0lf61pIlVq",
        "colab_type": "text"
      },
      "cell_type": "markdown",
      "source": [
        "### Presentación de resultados\n",
        "Es muy importante no sólo saber analizar los datos con los que se trabaja y obtener conclusiones, sino también comunicar de una manera efectiva y clara los resultados a los usuarios para que estos puedan entender las conclusiones y el trabajo realizado. Por esta razón, vamos a practicar con una serie de gráficas que sirvan para representar de una manera clara y contundente los resultados de nuestro analisis.\n",
        "\n",
        "El primer tipo de gráficas que vamos a generar será para describir las variables que incluye el dataset, por ejemplo representar como se distribuyen los pasajeros por clases, por sexos, por edades...."
      ]
    },
    {
      "metadata": {
        "id": "rT94YoeNIlVt",
        "colab_type": "code",
        "colab": {}
      },
      "cell_type": "code",
      "source": [
        "# Devolvamos el campo gender a sus valores originales....\n",
        "# definir functión que haga el cambio:\n",
        "def numbertogender(gender):\n",
        "    if gender == 0.: return 'male'\n",
        "    return 'female'\n",
        "\n",
        "# Aplicar el cambio a todas las filas con la función Apply:\n",
        "dataset.Sex = dataset.Sex.apply(lambda x:numbertogender(x))"
      ],
      "execution_count": 0,
      "outputs": []
    },
    {
      "metadata": {
        "id": "mr8J8OW3IlVy",
        "colab_type": "code",
        "colab": {}
      },
      "cell_type": "code",
      "source": [
        "import matplotlib.pyplot as plt\n",
        "%matplotlib inline\n",
        "\n",
        "# Seleccionamos el estilo de las gráficas:\n",
        "plt.style.use('ggplot')\n",
        "\n",
        "# Generamos el Boxplot:\n",
        "dataset.boxplot(return_type='axes')\n",
        "\n",
        "# Representamos la gráfica:\n",
        "plt.show()\n",
        "\n",
        "\n"
      ],
      "execution_count": 0,
      "outputs": []
    },
    {
      "metadata": {
        "id": "IkpeZHfQIlV9",
        "colab_type": "text"
      },
      "cell_type": "markdown",
      "source": [
        "¿Qué podemos conclusiones podemos sacar a partir de esta representación?\n",
        "* Mediana (rojo)\n",
        "* Primer y tercer quartil\n",
        "* Outliers"
      ]
    },
    {
      "metadata": {
        "id": "hvhgXP_-jVEA",
        "colab_type": "code",
        "colab": {}
      },
      "cell_type": "code",
      "source": [
        "# Generamos el Boxplot, quitando la columna 'PassengerId','Survived','Pclass','SibSp','Parch':\n",
        "dataset.loc[:,~dataset.columns.isin(['PassengerId','Survived','Pclass','SibSp','Parch'])].boxplot(return_type='axes')\n",
        "\n",
        "# Añadimos título y etiquetas:\n",
        "plt.title('Variables del dataset Titanic')\n",
        "plt.xlabel('Variables')\n",
        "plt.ylim([0,300])\n",
        "\n",
        "# Representamos la gráfica:\n",
        "plt.show()"
      ],
      "execution_count": 0,
      "outputs": []
    },
    {
      "metadata": {
        "id": "sFgRdgJoIlV-",
        "colab_type": "text"
      },
      "cell_type": "markdown",
      "source": [
        "¿Cómo se genera un historgrama de cualquier variable?, A continuación muestro como se genera el histograma de la columna 'Age':"
      ]
    },
    {
      "metadata": {
        "id": "iMs66S5uIlWB",
        "colab_type": "code",
        "colab": {}
      },
      "cell_type": "code",
      "source": [
        "# Generamos el histograma de Age:\n",
        "\n",
        "\n",
        "# Añadimos título y etiquetas:\n",
        "\n",
        "\n",
        "# Representamos la gráfica:\n"
      ],
      "execution_count": 0,
      "outputs": []
    },
    {
      "metadata": {
        "id": "9ycZCPnvIlWH",
        "colab_type": "text"
      },
      "cell_type": "markdown",
      "source": [
        "¿Podrías generar un histograma para la columna ```Fare```?"
      ]
    },
    {
      "metadata": {
        "id": "Z57TKPiyIlWL",
        "colab_type": "code",
        "colab": {}
      },
      "cell_type": "code",
      "source": [
        "# Generamos el histograma de Fare:\n",
        "dataset.loc[:,'Fare'].hist(bins=15)\n",
        "\n",
        "# Añadimos título y etiquetas:\n",
        "plt.title('Distribucion de Precios de ticket en el Titanic')\n",
        "plt.xlabel('Precios')\n",
        "plt.ylabel('Frecuencias')\n",
        "\n",
        "# Representamos la gráfica:\n",
        "plt.show()\n"
      ],
      "execution_count": 0,
      "outputs": []
    },
    {
      "metadata": {
        "id": "jiz6cbDsIlWU",
        "colab_type": "text"
      },
      "cell_type": "markdown",
      "source": [
        "¿Podriamos ver como se distribuyen los pasajeros por edades y por otra variable (género, supervivencia, clase....)? "
      ]
    },
    {
      "metadata": {
        "id": "KiXcdKb4IlWW",
        "colab_type": "code",
        "colab": {}
      },
      "cell_type": "code",
      "source": [
        "# Generamos el histograma de Age por Sex:\n",
        "dataset.loc[:,['Age','Sex']].hist(bins=15,by='Sex',sharey=True)\n",
        "\n",
        "# Representamos la gráfica:\n",
        "plt.show()\n"
      ],
      "execution_count": 0,
      "outputs": []
    },
    {
      "metadata": {
        "id": "VgFOJIjmjkI5",
        "colab_type": "code",
        "colab": {}
      },
      "cell_type": "code",
      "source": [
        "#Otra opción\n",
        "# Generamos el histograma de Age por Sex:\n",
        "dataset.loc[dataset.Sex=='male','Age'].hist(bins=15,color='blue',alpha=0.5,label='male')\n",
        "dataset.loc[dataset.Sex=='female','Age'].hist(bins=15,color='red',alpha=0.5,label='female')\n",
        "\n",
        "# Añadimos título y etiquetas:\n",
        "plt.title('Distribucion de Edades por Sexo en el Titanic')\n",
        "plt.xlabel('Edades')\n",
        "plt.ylabel('Frecuencias')\n",
        "plt.legend()\n",
        "\n",
        "# Representamos la gráfica:\n",
        "plt.show()"
      ],
      "execution_count": 0,
      "outputs": []
    },
    {
      "metadata": {
        "id": "e63PEUZjIlWj",
        "colab_type": "text"
      },
      "cell_type": "markdown",
      "source": [
        "¿Cómo se distribuyen los pasajeros por edad y por clase? (selecciones [colores](http://html-color-codes.info/) para cada una de las clases)"
      ]
    },
    {
      "metadata": {
        "id": "uL9zZssbIlWk",
        "colab_type": "code",
        "colab": {}
      },
      "cell_type": "code",
      "source": [
        "# Generamos el histograma de Age por clase:\n",
        "dataset.loc[dataset.Pclass==3,'Age'].hist(bins=15,color='#40FF00',alpha=0.5,label='Tercera')\n",
        "dataset.loc[dataset.Pclass==2,'Age'].hist(bins=15,color='#00FFFF',alpha=0.5,label='Segunda')\n",
        "dataset.loc[dataset.Pclass==1,'Age'].hist(bins=15,color='#610B5E',alpha=0.5,label='Primera')\n",
        "\n",
        "# Añadimos título y etiquetas:\n",
        "plt.title('Distribucion de Edades por Clases en el Titanic')\n",
        "plt.xlabel('Edades')\n",
        "plt.ylabel('Frecuencias')\n",
        "plt.legend()\n",
        "\n",
        "# Representamos la gráfica:\n",
        "plt.show()"
      ],
      "execution_count": 0,
      "outputs": []
    },
    {
      "metadata": {
        "id": "TCip6CwsIlWo",
        "colab_type": "text"
      },
      "cell_type": "markdown",
      "source": [
        "Ahora vamos a empezar a generar gráficas para demostrar como se distribuyen los supervivientes por Sexo, Clase y Edad. Antes vimos que esta información la obteniamos haciendo agrupaciones sobre el dataset. En este caso repetiremos el proceso y lo representaremos, por ejemplo el siguiente proceso muestra como se distribuyen los pasajeros por sexo y los porcentajes de superviviencia asociados a los mismos:"
      ]
    },
    {
      "metadata": {
        "id": "PhFr1GNXIlWp",
        "colab_type": "code",
        "colab": {}
      },
      "cell_type": "code",
      "source": [
        "# Vamos a crear una figura con dos subplots:\n",
        "f, axarr = plt.subplots(1,2,figsize=(10,7))\n",
        "f.suptitle('Distribucion y probabilidad de Supervivencia\\n de pasajeros por Sexo', fontsize=14, fontweight='bold')\n",
        "\n",
        "# En la gráfica de la izquierda vamos a representar la cantidad de pasajeros por Sexo\n",
        "dataset.groupby('Sex').count().iloc[:,1].plot.pie(ax=axarr[0],colors=['red','blue'],autopct='%1.1f%%')\n",
        "axarr[0].set_ylabel('Distribucion por Sexos de Pasajeros')\n",
        "\n",
        "# En la gráfica de la derecha vamos a representar la probabilidad de superviviencia por Sexo\n",
        "dataset.groupby('Sex').mean().iloc[:,1].plot.bar(ax=axarr[1],color=['red','blue'],alpha=0.5)\n",
        "axarr[1].set_ylabel('Probabilidad de Supervivencia')\n",
        "axarr[1].set_ylim([0,1])\n",
        "\n",
        "plt.show()\n",
        "\n",
        "\n"
      ],
      "execution_count": 0,
      "outputs": []
    },
    {
      "metadata": {
        "id": "8kzEK_OpIlW2",
        "colab_type": "text"
      },
      "cell_type": "markdown",
      "source": [
        "¿Podriamos hacer lo mismo con 'Age_ranges' o 'Pclass'?"
      ]
    },
    {
      "metadata": {
        "id": "FqMrdfROIlW3",
        "colab_type": "code",
        "colab": {}
      },
      "cell_type": "code",
      "source": [
        "# Vamos a crear una figura con dos subplots:\n",
        "f, axarr = plt.subplots(1,2,figsize=(10,7))\n",
        "f.suptitle('Distribucion y probabilidad de Supervivencia\\n de pasajeros por Clase', fontsize=14, fontweight='bold')\n",
        "\n",
        "# En la gráfica de la izquierda vamos a representar la cantidad de pasajeros por Clase\n",
        "dataset.groupby('Pclass').count().iloc[:,1].plot.pie(ax=axarr[0],labels=['Primera','Segunda','Tercera']\\\n",
        "                                                     ,autopct='%1.1f%%',colors=['#610B5E','#00FFFF','#40FF00'])\n",
        "axarr[0].set_ylabel('Distribucion por Clase de Pasajeros')\n",
        "\n",
        "# En la gráfica de la derecha vamos a representar la probabilidad de superviviencia por Clase\n",
        "dataset.groupby('Pclass').mean().iloc[:,1].plot.bar(ax=axarr[1],color=['#610B5E','#00FFFF','#40FF00']\\\n",
        "                                                    ,alpha=0.5)\n",
        "axarr[1].set_ylabel('Probabilidad de Supervivencia')\n",
        "axarr[1].set_ylim([0,1])\n",
        "\n",
        "plt.show()\n"
      ],
      "execution_count": 0,
      "outputs": []
    },
    {
      "metadata": {
        "id": "WCRAVf3qIlW6",
        "colab_type": "code",
        "colab": {}
      },
      "cell_type": "code",
      "source": [
        "# Vamos a crear una figura con dos subplots:\n",
        "f, axarr = plt.subplots(1,2,figsize=(10,7))\n",
        "f.suptitle('Distribucion y probabilidad de Supervivencia\\n de pasajeros por Rango de Edad', fontsize=14, fontweight='bold')\n",
        "\n",
        "# En la gráfica de la izquierda vamos a representar la cantidad de pasajeros por Sexo\n",
        "dataset.groupby('Age_ranges').count().iloc[:,1].plot.pie(ax=axarr[0],autopct='%1.1f%%',colors=['#610B5E','#00FFFF','#40FF00'])\n",
        "axarr[0].set_ylabel('Distribucion por Rangos de Edad de Pasajeros')\n",
        "\n",
        "# En la gráfica de la derecha vamos a representar la probabilidad de superviviencia por Sexo\n",
        "dataset.groupby('Age_ranges').mean().iloc[:,1].plot.bar(ax=axarr[1],alpha=0.5)\n",
        "axarr[1].set_ylabel('Probabilidad de Supervivencia')\n",
        "axarr[1].set_ylim([0,1])\n",
        "\n",
        "f.tight_layout()\n",
        "plt.show()\n"
      ],
      "execution_count": 0,
      "outputs": []
    },
    {
      "metadata": {
        "id": "T757YVcpIlW8",
        "colab_type": "text"
      },
      "cell_type": "markdown",
      "source": [
        "Por último, vamos a comprobar como se distribuye la probabilidad de supervivencia por Sexo y por Clase, para ello. Utiliza pivot_table."
      ]
    },
    {
      "metadata": {
        "id": "1W_hQyfjIlW9",
        "colab_type": "code",
        "colab": {}
      },
      "cell_type": "code",
      "source": [
        "# Este es el dataframe que vamos a representar:\n",
        "print dataset.groupby(['Sex','Pclass']).mean().reset_index().pivot(index='Pclass',columns='Sex',values='Survived')"
      ],
      "execution_count": 0,
      "outputs": []
    },
    {
      "metadata": {
        "id": "q2oGB-kRIlXA",
        "colab_type": "code",
        "colab": {}
      },
      "cell_type": "code",
      "source": [
        "dataset.groupby(['Sex','Pclass']).mean().reset_index().pivot(\n",
        "    index='Pclass',columns='Sex',values='Survived').plot.bar(color=['red','blue'],alpha=0.5)\n",
        "\n",
        "# Añadimos título y etiquetas:\n",
        "plt.title('Probabilidad de supervivencia\\n por Sexo y Clases en el Titanic')\n",
        "plt.xlabel('Clase')\n",
        "plt.ylabel('Prob. de Supervivencia')\n",
        "plt.xticks(range(3), ['Primera', 'Segunda', 'Tercera'], color='black')\n",
        "plt.legend()\n",
        "\n",
        "plt.show()\n"
      ],
      "execution_count": 0,
      "outputs": []
    },
    {
      "metadata": {
        "id": "WlmruJHYj-eZ",
        "colab_type": "text"
      },
      "cell_type": "markdown",
      "source": [
        "Felicidades!, llegados a este punto ya hemos representado visualemente las conclusiones que obtuvimos en un primer momento. Hemos demostrado que la probabilidad de superviviencia viene mayormente determinada por el Sexo, Clase y en menor medida por la Edad (y probablemente sea también factor de otras variables que no hemos analizado en este ejercicio"
      ]
    }
  ]
}