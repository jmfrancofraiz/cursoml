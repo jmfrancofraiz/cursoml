{
  "nbformat": 4,
  "nbformat_minor": 0,
  "metadata": {
    "colab": {
      "name": "Laboratorio 03-2 - K means Analizando los datos del Titanic Solucion.ipynb",
      "version": "0.3.2",
      "provenance": [],
      "collapsed_sections": [],
      "toc_visible": true,
      "include_colab_link": true
    },
    "kernelspec": {
      "display_name": "Python 2",
      "language": "python",
      "name": "python2"
    }
  },
  "cells": [
    {
      "cell_type": "markdown",
      "metadata": {
        "id": "view-in-github",
        "colab_type": "text"
      },
      "source": [
        "<a href=\"https://colab.research.google.com/github/antoniosql/cursoml/blob/master/Laboratorios/Laboratorio_03_2_K_means_Analizando_los_datos_del_Titanic_Solucion.ipynb\" target=\"_parent\"><img src=\"https://colab.research.google.com/assets/colab-badge.svg\" alt=\"Open In Colab\"/></a>"
      ]
    },
    {
      "metadata": {
        "id": "09I4wFzyh6od",
        "colab_type": "code",
        "colab": {}
      },
      "cell_type": "code",
      "source": [
        "import pandas as pd\n",
        "import numpy as np\n",
        "from sklearn.cluster import KMeans\n",
        "from sklearn.preprocessing import LabelEncoder\n",
        "from sklearn.preprocessing import MinMaxScaler\n",
        "import seaborn as sns\n",
        "import matplotlib.pyplot as plt\n",
        "\n",
        "\n",
        "\n",
        "input_file = 'titanic_data.csv'\n",
        "separador = \",\"\n",
        "dataset = pd.read_csv(filepath_or_buffer=input_file, sep=separador)"
      ],
      "execution_count": 0,
      "outputs": []
    },
    {
      "metadata": {
        "id": "CtNBanAi_4DT",
        "colab_type": "text"
      },
      "cell_type": "markdown",
      "source": [
        "# Uso de K means"
      ]
    },
    {
      "metadata": {
        "id": "YLpSrsCm_67y",
        "colab_type": "text"
      },
      "cell_type": "markdown",
      "source": [
        "**Ejercicio 1**\n",
        "Las características de Age, Cabin y Embarked, tiene muchos nulos, así que como primer paso, intenta inferar utilizando fillna() valores para esas columnas usando la media. Esto dbes de hacerlo tanto para el juego de entrenamiento como para el de test"
      ]
    },
    {
      "metadata": {
        "id": "1-Ti2e1tjIsx",
        "colab_type": "code",
        "colab": {}
      },
      "cell_type": "code",
      "source": [
        "labelEncoder = LabelEncoder()\n",
        "\n",
        "labelEncoder.fit(dataset['Sex'])\n",
        "\n",
        "dataset['Sex'] = labelEncoder.transform(dataset['Sex'])"
      ],
      "execution_count": 0,
      "outputs": []
    },
    {
      "metadata": {
        "id": "dR6gBkBTASuO",
        "colab_type": "code",
        "colab": {}
      },
      "cell_type": "code",
      "source": [
        "dataset.fillna(dataset.mean(), inplace=True)\n"
      ],
      "execution_count": 0,
      "outputs": []
    },
    {
      "metadata": {
        "id": "7gfhyX-3ATfU",
        "colab_type": "text"
      },
      "cell_type": "markdown",
      "source": [
        "**Ejercicio 2**\n",
        "Elimina las características que crees que no son necesarias y asegurate de que Sex es un valor numérico "
      ]
    },
    {
      "metadata": {
        "id": "azBGwwNAAyCi",
        "colab_type": "code",
        "colab": {}
      },
      "cell_type": "code",
      "source": [
        "X = dataset.drop(['Survived','Name','Ticket','Cabin','Embarked','PassengerId'], axis = 1)\n",
        "\n",
        "\n",
        "y=dataset.drop(['Name','Ticket','Cabin','Embarked','PassengerId','Pclass','Sex','Age','SibSp','Parch','Fare'],axis=1)"
      ],
      "execution_count": 0,
      "outputs": []
    },
    {
      "metadata": {
        "id": "n0PH3qNIAydM",
        "colab_type": "text"
      },
      "cell_type": "markdown",
      "source": [
        "**Ejercicio 3**\n",
        "\n",
        "Construye el modelo K-Means"
      ]
    },
    {
      "metadata": {
        "id": "hYNdLmlbiH8e",
        "colab_type": "code",
        "colab": {}
      },
      "cell_type": "code",
      "source": [
        "from sklearn.model_selection import train_test_split\n",
        "\n",
        "X_train,X_test,y_train,y_test = train_test_split(X, y, test_size = 0.3, random_state = 0,stratify=y)\n",
        "\n",
        "\n",
        "kmeans = KMeans(n_clusters=2) # You want cluster the passenger records into 2: Survived or Not survived\n",
        "modelo = kmeans.fit(X_train)\n"
      ],
      "execution_count": 0,
      "outputs": []
    },
    {
      "metadata": {
        "id": "Kam8NU8Ai2ks",
        "colab_type": "code",
        "colab": {}
      },
      "cell_type": "code",
      "source": [
        "modelo.labels_"
      ],
      "execution_count": 0,
      "outputs": []
    },
    {
      "metadata": {
        "id": "DNHEyBgDkd_p",
        "colab_type": "code",
        "colab": {}
      },
      "cell_type": "code",
      "source": [
        "import sklearn.metrics as sm\n",
        "sm.accuracy_score(y_train, modelo.labels_)"
      ],
      "execution_count": 0,
      "outputs": []
    },
    {
      "metadata": {
        "id": "tPgdA_93ku-8",
        "colab_type": "code",
        "colab": {}
      },
      "cell_type": "code",
      "source": [
        "plt.figure(figsize=(14,7))\n",
        " \n",
        "# Create a colormap\n",
        "colormap = np.array(['red', 'lime'])\n",
        " \n",
        "# Plot the Original Classifications\n",
        "plt.subplot(1, 2, 1)\n",
        "plt.scatter(X.Pclass, X.Sex, c=colormap[y.Survived], s=40)\n",
        "plt.title('Real Classification')\n",
        " \n",
        "# Plot the Models Classifications\n",
        "plt.subplot(1, 2, 2)\n",
        "plt.scatter(X.Pclass, X.Sex, c=colormap[modelo.labels_], s=40)\n",
        "plt.title('K Mean Classification')"
      ],
      "execution_count": 0,
      "outputs": []
    },
    {
      "metadata": {
        "id": "pifHOjLukaWI",
        "colab_type": "code",
        "colab": {}
      },
      "cell_type": "code",
      "source": [
        "\n",
        "from sklearn.metrics import accuracy_score, confusion_matrix, recall_score\n",
        "\n",
        "from imblearn.over_sampling import SMOTE"
      ],
      "execution_count": 0,
      "outputs": []
    },
    {
      "metadata": {
        "id": "cRZ7qfW0kfSL",
        "colab_type": "code",
        "colab": {}
      },
      "cell_type": "code",
      "source": [
        "#SMOTE-----------------------------------------------------------------------------------\n",
        "\n",
        "\n",
        "X_train, X_test, y_train, y_test = train_test_split(X, y, random_state = 1, stratify=y)\n",
        "\n",
        "\n",
        "\n",
        "smt = SMOTE()\n",
        "\n",
        "X_train, y_train = smt.fit_sample(X_train, y_train)"
      ],
      "execution_count": 0,
      "outputs": []
    },
    {
      "metadata": {
        "id": "qhpSvQG7kxdR",
        "colab_type": "code",
        "colab": {}
      },
      "cell_type": "code",
      "source": [
        "from sklearn.model_selection import train_test_split\n",
        "\n",
        "X_train,X_test,y_train,y_test = train_test_split(X, y, test_size = 0.1, random_state = 0,stratify=y)\n",
        "\n",
        "\n",
        "kmeans = KMeans(n_clusters=2) \n",
        "modelo = kmeans.fit(X_train)\n"
      ],
      "execution_count": 0,
      "outputs": []
    },
    {
      "metadata": {
        "id": "MIA5yKsmkzBs",
        "colab_type": "code",
        "colab": {}
      },
      "cell_type": "code",
      "source": [
        "modelo.labels_"
      ],
      "execution_count": 0,
      "outputs": []
    },
    {
      "metadata": {
        "id": "iItdNXs0k4Yt",
        "colab_type": "code",
        "colab": {}
      },
      "cell_type": "code",
      "source": [
        "import sklearn.metrics as sm\n",
        "sm.accuracy_score(y_train, modelo.labels_)"
      ],
      "execution_count": 0,
      "outputs": []
    },
    {
      "metadata": {
        "id": "rxX6bKGnlbvn",
        "colab_type": "code",
        "colab": {}
      },
      "cell_type": "code",
      "source": [
        "predict = kmeans.predict(X_test)"
      ],
      "execution_count": 0,
      "outputs": []
    },
    {
      "metadata": {
        "id": "g4z8eiZ-lFdr",
        "colab_type": "code",
        "colab": {}
      },
      "cell_type": "code",
      "source": [
        "confusion_matrix(y_test,predict)"
      ],
      "execution_count": 0,
      "outputs": []
    },
    {
      "metadata": {
        "id": "tn2IidhxpBUp",
        "colab_type": "code",
        "colab": {}
      },
      "cell_type": "code",
      "source": [
        "recall_score(y_test, predict)"
      ],
      "execution_count": 0,
      "outputs": []
    },
    {
      "metadata": {
        "id": "IAvCk4yFnxU0",
        "colab_type": "code",
        "colab": {}
      },
      "cell_type": "code",
      "source": [
        "# Function para generar los rangos de edad:\n",
        "def age_ranges(x):\n",
        "    return '[{0}-{1})'.format(10*int(x/10), 10 +10*int(x/10))\n",
        "\n",
        "# Crear nueva columna:\n",
        "dataset['Age_ranges'] = np.nan\n",
        "\n",
        "# Asignar los valores rangos de edad correspondientes:\n",
        "dataset['Age_ranges'] = dataset.Age.apply(lambda x: age_ranges(x))\n",
        "\n",
        "\n",
        "labelEncoder.fit(dataset['Age_ranges'])\n",
        "\n",
        "dataset['Age_ranges'] = labelEncoder.transform(dataset['Age_ranges'])\n",
        "\n",
        "X = dataset.drop(['Survived','Name','Ticket','Cabin','Embarked','PassengerId','Age'], axis = 1)\n",
        "\n",
        "\n",
        "y=dataset.drop(['Name','Ticket','Cabin','Embarked','PassengerId','Pclass','Sex','Age','Age_ranges','SibSp','Parch','Fare'],axis=1)\n",
        "\n",
        "\n"
      ],
      "execution_count": 0,
      "outputs": []
    },
    {
      "metadata": {
        "id": "_vIga9XFn8e2",
        "colab_type": "code",
        "colab": {}
      },
      "cell_type": "code",
      "source": [
        "from sklearn.model_selection import train_test_split\n",
        "\n",
        "X_train,X_test,y_train,y_test = train_test_split(X, y, test_size = 0.3, random_state = 0,stratify=y)\n",
        "\n",
        "\n",
        "kmeans = KMeans(n_clusters=2) \n",
        "modelo = kmeans.fit(X_train)"
      ],
      "execution_count": 0,
      "outputs": []
    },
    {
      "metadata": {
        "id": "GANsycyXofLc",
        "colab_type": "code",
        "colab": {}
      },
      "cell_type": "code",
      "source": [
        "modelo.labels_"
      ],
      "execution_count": 0,
      "outputs": []
    },
    {
      "metadata": {
        "id": "sFgCUNhOok2u",
        "colab_type": "code",
        "colab": {}
      },
      "cell_type": "code",
      "source": [
        "import sklearn.metrics as sm\n",
        "sm.accuracy_score(y_train, modelo.labels_)"
      ],
      "execution_count": 0,
      "outputs": []
    },
    {
      "metadata": {
        "id": "INtWm7p7oyn-",
        "colab_type": "code",
        "colab": {}
      },
      "cell_type": "code",
      "source": [
        "predict = kmeans.predict(X_test)"
      ],
      "execution_count": 0,
      "outputs": []
    },
    {
      "metadata": {
        "id": "rPuCatHIo2kD",
        "colab_type": "code",
        "colab": {}
      },
      "cell_type": "code",
      "source": [
        "confusion_matrix(y_test,predict)"
      ],
      "execution_count": 0,
      "outputs": []
    },
    {
      "metadata": {
        "id": "i6oh7fOWo8sD",
        "colab_type": "code",
        "colab": {}
      },
      "cell_type": "code",
      "source": [
        "recall_score(y_test, predict)"
      ],
      "execution_count": 0,
      "outputs": []
    }
  ]
}