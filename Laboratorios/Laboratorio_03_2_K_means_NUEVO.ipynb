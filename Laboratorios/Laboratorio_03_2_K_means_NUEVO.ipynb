{
  "nbformat": 4,
  "nbformat_minor": 0,
  "metadata": {
    "colab": {
      "name": "Laboratorio 03-2 - K means NUEVO.ipynb",
      "version": "0.3.2",
      "provenance": [],
      "collapsed_sections": [],
      "toc_visible": true,
      "include_colab_link": true
    },
    "kernelspec": {
      "display_name": "Python 2",
      "language": "python",
      "name": "python2"
    }
  },
  "cells": [
    {
      "cell_type": "markdown",
      "metadata": {
        "id": "view-in-github",
        "colab_type": "text"
      },
      "source": [
        "<a href=\"https://colab.research.google.com/github/antoniosql/cursoml/blob/master/Laboratorios/Laboratorio_03_2_K_means_NUEVO.ipynb\" target=\"_parent\"><img src=\"https://colab.research.google.com/assets/colab-badge.svg\" alt=\"Open In Colab\"/></a>"
      ]
    },
    {
      "metadata": {
        "id": "09I4wFzyh6od",
        "colab_type": "code",
        "colab": {}
      },
      "cell_type": "code",
      "source": [
        "import pandas as pd\n",
        "import numpy as np\n",
        "from sklearn.cluster import KMeans\n",
        "from sklearn.preprocessing import LabelEncoder\n",
        "from sklearn.preprocessing import MinMaxScaler\n",
        "import seaborn as sns\n",
        "import matplotlib.pyplot as plt\n",
        "\n",
        "\n",
        "\n",
        "input_file = 'titanic_data.csv'\n",
        "separador = \",\"\n",
        "dataset = pandas.read_csv(filepath_or_buffer=input_file, sep=separador)"
      ],
      "execution_count": 0,
      "outputs": []
    },
    {
      "metadata": {
        "id": "CtNBanAi_4DT",
        "colab_type": "text"
      },
      "cell_type": "markdown",
      "source": [
        "# Uso de K means"
      ]
    },
    {
      "metadata": {
        "id": "YLpSrsCm_67y",
        "colab_type": "text"
      },
      "cell_type": "markdown",
      "source": [
        "**Ejercicio 1**\n",
        "Las características de Age, Cabin y Embarked, tiene muchos nulos, así que como primer paso, intenta inferar utilizando fillna() valores para esas columnas usando la media. Esto dbes de hacerlo tanto para el juego de entrenamiento como para el de test"
      ]
    },
    {
      "metadata": {
        "id": "7gfhyX-3ATfU",
        "colab_type": "text"
      },
      "cell_type": "markdown",
      "source": [
        "**Ejercicio 2**\n",
        "Elimina las características que crees que no son necesarias y asegurate de que Sex es un valor numérico "
      ]
    },
    {
      "metadata": {
        "id": "n0PH3qNIAydM",
        "colab_type": "text"
      },
      "cell_type": "markdown",
      "source": [
        "**Ejercicio 3**\n",
        "\n",
        "Construye el modelo K-Means"
      ]
    },
    {
      "metadata": {
        "id": "Kam8NU8Ai2ks",
        "colab_type": "code",
        "colab": {}
      },
      "cell_type": "code",
      "source": [
        "modelo.labels_"
      ],
      "execution_count": 0,
      "outputs": []
    },
    {
      "metadata": {
        "id": "tPgdA_93ku-8",
        "colab_type": "code",
        "outputId": "0d35e26e-1360-4d74-c951-ad6b8fb1be9a",
        "colab": {
          "base_uri": "https://localhost:8080/",
          "height": 461
        }
      },
      "cell_type": "code",
      "source": [
        "plt.figure(figsize=(14,7))\n",
        " \n",
        "# Create a colormap\n",
        "colormap = np.array(['red', 'lime'])\n",
        " \n",
        "# Plot the Original Classifications\n",
        "plt.subplot(1, 2, 1)\n",
        "plt.scatter(X.Pclass, X.Sex, c=colormap[y.Survived], s=40)\n",
        "plt.title('Real Classification')\n",
        " \n",
        "# Plot the Models Classifications\n",
        "plt.subplot(1, 2, 2)\n",
        "plt.scatter(X.Pclass, X.Sex, c=colormap[modelo.labels_], s=40)\n",
        "plt.title('K Mean Classification')"
      ],
      "execution_count": 0,
      "outputs": [
        {
          "output_type": "execute_result",
          "data": {
            "text/plain": [
              "Text(0.5,1,'K Mean Classification')"
            ]
          },
          "metadata": {
            "tags": []
          },
          "execution_count": 65
        },
        {
          "output_type": "display_data",
          "data": {
            "image/png": "[encoded data removed]",
            "text/plain": [
              "<Figure size 1008x504 with 2 Axes>"
            ]
          },
          "metadata": {
            "tags": []
          }
        }
      ]
    }
  ]
}