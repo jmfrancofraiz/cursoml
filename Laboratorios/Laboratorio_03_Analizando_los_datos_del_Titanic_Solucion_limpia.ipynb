{
  "nbformat": 4,
  "nbformat_minor": 0,
  "metadata": {
    "colab": {
      "name": "Laboratorio 03 - Analizando los datos del Titanic Solucion limpia.ipynb",
      "version": "0.3.2",
      "provenance": [],
      "collapsed_sections": [],
      "toc_visible": true,
      "include_colab_link": true
    },
    "kernelspec": {
      "display_name": "Python 2",
      "language": "python",
      "name": "python2"
    }
  },
  "cells": [
    {
      "cell_type": "markdown",
      "metadata": {
        "id": "view-in-github",
        "colab_type": "text"
      },
      "source": [
        "<a href=\"https://colab.research.google.com/github/antoniosql/cursoml/blob/master/Laboratorios/Laboratorio_03_Analizando_los_datos_del_Titanic_Solucion_limpia.ipynb\" target=\"_parent\"><img src=\"https://colab.research.google.com/assets/colab-badge.svg\" alt=\"Open In Colab\"/></a>"
      ]
    },
    {
      "metadata": {
        "id": "y2h3h-iIIlRz",
        "colab_type": "text"
      },
      "cell_type": "markdown",
      "source": [
        "![SolidQ](https://www.solidq.com/wp-content/uploads/2015/06/Logo-SolidQ-Web.gif)\n",
        "# Analizando los datos del hundimiento del Titanic\n",
        "\n",
        "\n",
        "A lo largo de este laboratorio analizaremos el conjunto de datos del hundimiento del Titanic. En la [web de Kaggle](https://www.kaggle.com/c/titanic) podremos encontrar más información sobre las diferentes variables que contiene el dataset. \n",
        "\n",
        "En esta primera toma de contacto con el Conjunto de Datos nos centraremos en:\n",
        "\n",
        " 1. Primeros pasos con el dataset\n",
        " 2. Exploración del dataset y generación de estadísticas\n",
        " 3. Presentación de resultados"
      ]
    },
    {
      "metadata": {
        "id": "BI9hpKBoIlR2",
        "colab_type": "text"
      },
      "cell_type": "markdown",
      "source": [
        "### Cargando el conjunto de datos y obteniendo información básica:\n",
        "El objetivo de esta sección es que nos familiarizemos con Pandas y seamos capaces de manipular el dataset a nuestro interés.\n",
        "\n",
        "utilizaremos para este caso el fichero titanic_data.csv"
      ]
    },
    {
      "metadata": {
        "id": "G8Ly3MHvIlR4",
        "colab_type": "code",
        "colab": {}
      },
      "cell_type": "code",
      "source": [
        "import pandas\n",
        "import numpy as np\n",
        "\n",
        "\n",
        "input_file = 'titanic_data.csv'\n",
        "separador = \",\"\n",
        "dataset = pandas.read_csv(filepath_or_buffer=input_file, sep=separador)"
      ],
      "execution_count": 0,
      "outputs": []
    },
    {
      "metadata": {
        "id": "7NBqkrG3k_Dy",
        "colab_type": "text"
      },
      "cell_type": "markdown",
      "source": [
        "# Creando el Modelo\n",
        "\n",
        "En esta seción vamos a trabajar en la creación de un modelo que sirva para determinar si un pasajero va a sobrevivir o no. Lo primero que haremos será crear nuestro propio modelo en función de las conclusiones que hemos sacado, y después lo compararemos con un árbol de decision que entrenaremos con el dataset.\n",
        "\n",
        "Lo primero que vamos a definir es el score accuracy para medir la calidad de nuestros resultados:\n",
        "\n"
      ]
    },
    {
      "metadata": {
        "id": "Wk1JAFCiVlLT",
        "colab_type": "code",
        "colab": {}
      },
      "cell_type": "code",
      "source": [
        "def accuracy_score(truth, pred):\n",
        "    \"\"\" Devuelve accuracy score comparando valores predichos (pred) contra reales (truth). \"\"\"\n",
        "    \n",
        "    # Ensure that the number of predictions matches number of outcomes\n",
        "    if len(truth) == len(pred): \n",
        "        \n",
        "        # Calculate and return the accuracy as a percent\n",
        "        return \"Predicciones tienen un accuracy de {:.2f}%.\".format((truth == pred).mean()*100)\n",
        "    \n",
        "    else:\n",
        "        return \"El número de predicciones no es igual al numero de valores reales!\""
      ],
      "execution_count": 0,
      "outputs": []
    },
    {
      "metadata": {
        "id": "4ocnQC4OlMcT",
        "colab_type": "text"
      },
      "cell_type": "markdown",
      "source": [
        "Lo siguiente que vamos a hacer es eliminar la columa 'Survived' del dataset y marcarla como etiqueta a predecir"
      ]
    },
    {
      "metadata": {
        "id": "D87O_P7FlPpY",
        "colab_type": "code",
        "colab": {}
      },
      "cell_type": "code",
      "source": [
        "# 'Survived' será nuestra etiqueta y el valor que queremos predecir:\n",
        "y = dataset['Survived']\n",
        "X = dataset.drop(['Survived','Name','Ticket','Cabin','Embarked','PassengerId'], axis = 1)\n",
        "\n",
        "X['Sex'] = X['Sex'].apply(lambda x: 1. if x == 'female' else 0.)\n",
        "\n",
        "# Representar las primeras 5 filas para comprobar los cambios\n",
        "\n",
        "print X.head()"
      ],
      "execution_count": 0,
      "outputs": []
    },
    {
      "metadata": {
        "id": "6YiC42vQE4qV",
        "colab_type": "code",
        "colab": {}
      },
      "cell_type": "code",
      "source": [
        "from sklearn.model_selection import train_test_split\n",
        "\n",
        "X_train,X_test,y_train,y_test = train_test_split(X, y, test_size = 0.3, random_state = 0,stratify=y)\n",
        "\n",
        "# Definir el arbol de decision\n"
      ],
      "execution_count": 0,
      "outputs": []
    },
    {
      "metadata": {
        "id": "uvGXiLYdFKvE",
        "colab_type": "code",
        "colab": {}
      },
      "cell_type": "code",
      "source": [
        "from sklearn import tree\n",
        "clf = tree.DecisionTreeClassifier(max_features=3,max_depth=2)"
      ],
      "execution_count": 0,
      "outputs": []
    },
    {
      "metadata": {
        "id": "ICyVlcygHm9N",
        "colab_type": "code",
        "colab": {}
      },
      "cell_type": "code",
      "source": [
        "# Entrenarlo con los datos de train\n",
        "clf = clf.fit(X_train, y_train)\n",
        "\n",
        "# Crear predicciones\n",
        "predictions = clf.predict(X_test)\n",
        "\n",
        "# Obtener resultado:\n",
        "accuracy_score(y_test, predictions)\n"
      ],
      "execution_count": 0,
      "outputs": []
    },
    {
      "metadata": {
        "id": "Ug6JBjsmSq3Y",
        "colab_type": "code",
        "colab": {
          "base_uri": "https://localhost:8080/",
          "height": 52
        },
        "outputId": "65be96f5-7057-4181-9a5d-de02c8a09c60"
      },
      "cell_type": "code",
      "source": [
        "print('R-squared test score: {:.3f}'\n",
        "     .format(clf.score(X_test, y_test)))\n",
        "print('R-squared train score: {:.3f}'\n",
        "     .format(clf.score(X_train, y_train)))"
      ],
      "execution_count": 76,
      "outputs": [
        {
          "output_type": "stream",
          "text": [
            "R-squared test score: 0.879\n",
            "R-squared train score: 0.837\n"
          ],
          "name": "stdout"
        }
      ]
    },
    {
      "metadata": {
        "id": "gNuxTf-5lnvz",
        "colab_type": "text"
      },
      "cell_type": "markdown",
      "source": [
        "Representamos el árbol de decisión"
      ]
    },
    {
      "metadata": {
        "id": "qQTF-v5Ilq0c",
        "colab_type": "code",
        "colab": {}
      },
      "cell_type": "code",
      "source": [
        "from sklearn.externals.six import StringIO  \n",
        "from IPython.display import Image  \n",
        "from sklearn.tree import export_graphviz\n",
        "import pydotplus\n",
        "dot_data = StringIO()\n",
        "export_graphviz(clf, out_file=dot_data,  \n",
        "                filled=True, rounded=True,\n",
        "                special_characters=True)\n",
        "graph = pydotplus.graph_from_dot_data(dot_data.getvalue())  \n",
        "Image(graph.create_png())"
      ],
      "execution_count": 0,
      "outputs": []
    },
    {
      "metadata": {
        "id": "KHaYJgQslZQ9",
        "colab_type": "text"
      },
      "cell_type": "markdown",
      "source": [
        "Podríamos mejorar el siguiente modelo?"
      ]
    }
  ]
}