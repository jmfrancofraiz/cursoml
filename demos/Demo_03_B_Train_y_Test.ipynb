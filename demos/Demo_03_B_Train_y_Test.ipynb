{
  "nbformat": 4,
  "nbformat_minor": 0,
  "metadata": {
    "colab": {
      "name": "Demo 03 - B Train y Test.ipynb",
      "version": "0.3.2",
      "provenance": [],
      "collapsed_sections": [],
      "include_colab_link": true
    },
    "kernelspec": {
      "name": "python3",
      "display_name": "Python 3"
    }
  },
  "cells": [
    {
      "cell_type": "markdown",
      "metadata": {
        "id": "view-in-github",
        "colab_type": "text"
      },
      "source": [
        "<a href=\"https://colab.research.google.com/github/antoniosql/cursoml/blob/master/demos/Demo_03_B_Train_y_Test.ipynb\" target=\"_parent\"><img src=\"https://colab.research.google.com/assets/colab-badge.svg\" alt=\"Open In Colab\"/></a>"
      ]
    },
    {
      "metadata": {
        "id": "JoHf1DL1wBMB",
        "colab_type": "code",
        "colab": {}
      },
      "cell_type": "code",
      "source": [
        "import pandas as pd\n",
        "import numpy as np\n",
        "df_wine = pd.read_csv('https://archive.ics.uci.edu/ml/machine-learning-databases/wine/wine.data',header=None)"
      ],
      "execution_count": 0,
      "outputs": []
    },
    {
      "metadata": {
        "id": "QbiN03j-wNWl",
        "colab_type": "code",
        "colab": {}
      },
      "cell_type": "code",
      "source": [
        "df_wine.columns = ['Class label', 'Alcohol',\n",
        "  'Malic acid', 'Ash',\n",
        "  'Alcalinity of ash', 'Magnesium',\n",
        "  'Total phenols', 'Flavanoids',\n",
        "  'Nonflavanoid phenols',\n",
        "  'Proanthocyanins',\n",
        "  'Color intensity', 'Hue',\n",
        "  'OD280/OD315 of diluted wines',\n",
        "  'Proline']\n",
        "print('Class labels', np.unique(df_wine['Class label']))"
      ],
      "execution_count": 0,
      "outputs": []
    },
    {
      "metadata": {
        "id": "W3Vl4ZUSwkWj",
        "colab_type": "code",
        "colab": {}
      },
      "cell_type": "code",
      "source": [
        "df_wine.head()"
      ],
      "execution_count": 0,
      "outputs": []
    },
    {
      "metadata": {
        "id": "8fJ7uQRiwqPL",
        "colab_type": "text"
      },
      "cell_type": "markdown",
      "source": [
        "Los ejemplos perteneden a una de las tres clases diferentes (1,2,3) que representan tres tipos de uva de una región italiana, pero derivados de diferentes cultivadores. Un modo conveniente de particionar este dataset de forma aleatoria en entrenamiento y test, es utilizar la función  train_test_split de scikit-learn, dentro del sbmódulo model_selection"
      ]
    },
    {
      "metadata": {
        "id": "MNpwWMokwrK8",
        "colab_type": "code",
        "colab": {}
      },
      "cell_type": "code",
      "source": [
        "from sklearn.model_selection import train_test_split\n",
        "X, y = df_wine.iloc[:, 1:].values, df_wine.iloc[:, 0].values\n",
        "X_train, X_test, y_train, y_test =\\\n",
        "  train_test_split(X, y,\n",
        "  test_size=0.3,\n",
        "  random_state=0,\n",
        "  stratify=y)"
      ],
      "execution_count": 0,
      "outputs": []
    },
    {
      "metadata": {
        "id": "0uUYizTkw7Ny",
        "colab_type": "text"
      },
      "cell_type": "markdown",
      "source": [
        "En primer lugar, asignamos la representación de matriz NumPy de las columnas de entidad 1-13 a la\n",
        "variable X; Asignamos las etiquetas de clase de la primera columna a la variable y. Después\n",
        "usamos la función train_test_split para dividir aleatoriamente X e y en \n",
        "conjuntos de datos de prueba y entrenamiento separados. Al establecer test_size = 0.3, asignamos el 30 por ciento de\n",
        "muestras de vino a X_test e y_test, y el 70 por ciento restante de las muestras\n",
        "se asignaron a X_train e y_train, respectivamente. Proporcionar la matriz de etiquetas de clase\n",
        "y como argumento para estratificar asegura que tanto los conjuntos de datos de entrenamiento como el conjunto de datos original tienen las mismas proporciones de clase "
      ]
    },
    {
      "metadata": {
        "id": "RyE0pE9Qw8O6",
        "colab_type": "text"
      },
      "cell_type": "markdown",
      "source": [
        ""
      ]
    }
  ]
}