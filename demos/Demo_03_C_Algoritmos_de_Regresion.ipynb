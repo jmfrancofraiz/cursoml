{
  "nbformat": 4,
  "nbformat_minor": 0,
  "metadata": {
    "colab": {
      "name": "Demo 03 C Algoritmos de Regresion.ipynb",
      "version": "0.3.2",
      "provenance": [],
      "collapsed_sections": [
        "o3o7TL2SHt3C",
        "Vlb0jKqCspq6"
      ],
      "toc_visible": true,
      "include_colab_link": true
    },
    "kernelspec": {
      "name": "python3",
      "display_name": "Python 3"
    }
  },
  "cells": [
    {
      "cell_type": "markdown",
      "metadata": {
        "id": "view-in-github",
        "colab_type": "text"
      },
      "source": [
        "<a href=\"https://colab.research.google.com/github/antoniosql/cursoml/blob/master/demos/Demo_03_C_Algoritmos_de_Regresion.ipynb\" target=\"_parent\"><img src=\"https://colab.research.google.com/assets/colab-badge.svg\" alt=\"Open In Colab\"/></a>"
      ]
    },
    {
      "metadata": {
        "id": "1DU_pK-Pw9G1",
        "colab_type": "text"
      },
      "cell_type": "markdown",
      "source": [
        "# Carga de datos y exploración"
      ]
    },
    {
      "metadata": {
        "id": "Luzizu3KxCZu",
        "colab_type": "code",
        "colab": {}
      },
      "cell_type": "code",
      "source": [
        "import numpy as np\n",
        "import pandas as pd\n",
        "import matplotlib.pyplot as plt\n",
        "import seaborn as sns\n",
        "dataset = pd.read_csv('sample_data/california_housing_train.csv')"
      ],
      "execution_count": 0,
      "outputs": []
    },
    {
      "metadata": {
        "id": "tYPA2JGWxEAA",
        "colab_type": "code",
        "colab": {}
      },
      "cell_type": "code",
      "source": [
        "X = dataset[['total_rooms']].values\n",
        "y = dataset[['median_house_value']].values\n",
        "plt.scatter(X, y)"
      ],
      "execution_count": 0,
      "outputs": []
    },
    {
      "metadata": {
        "id": "ncE2OC4OxGMH",
        "colab_type": "code",
        "colab": {}
      },
      "cell_type": "code",
      "source": [
        "cols=['longitude', 'latitude', 'housing_median_age', 'total_rooms','total_bedrooms', 'population', 'households', 'median_income','median_house_value']\n",
        "\n",
        "#Matriz de Correlación\n",
        "\n",
        "cm = np.corrcoef(dataset[cols].T)\n",
        "sns.set(font_scale=1.5)\n",
        "hm = sns.heatmap(cm, cbar=True, annot=True, square=True, fmt='.2f', annot_kws={'size': 15}, yticklabels=cols, xticklabels=cols)\n",
        "plt.show()"
      ],
      "execution_count": 0,
      "outputs": []
    },
    {
      "metadata": {
        "id": "CMZC_11mxK15",
        "colab_type": "text"
      },
      "cell_type": "markdown",
      "source": [
        "# Generar datos de entrenamiento y test"
      ]
    },
    {
      "metadata": {
        "id": "UZ9uJzzDxN62",
        "colab_type": "code",
        "colab": {}
      },
      "cell_type": "code",
      "source": [
        "from sklearn.model_selection import train_test_split\n",
        "X_train, X_test, y_train, y_test = train_test_split(X, y, test_size = 1/3, random_state = 0)"
      ],
      "execution_count": 0,
      "outputs": []
    },
    {
      "metadata": {
        "id": "o3o7TL2SHt3C",
        "colab_type": "text"
      },
      "cell_type": "markdown",
      "source": [
        "#Regresión Lineal"
      ]
    },
    {
      "metadata": {
        "id": "LDNRp65uIReI",
        "colab_type": "code",
        "colab": {}
      },
      "cell_type": "code",
      "source": [
        "from sklearn import linear_model\n",
        "regressor = linear_model.LinearRegression()\n",
        "lr = regressor.fit(X_train, y_train)"
      ],
      "execution_count": 0,
      "outputs": []
    },
    {
      "metadata": {
        "id": "zCfGD100xbc9",
        "colab_type": "code",
        "colab": {}
      },
      "cell_type": "code",
      "source": [
        "#Realizamos la predicción con test\n",
        "print(lr.predict(X_test))"
      ],
      "execution_count": 0,
      "outputs": []
    },
    {
      "metadata": {
        "id": "trHMmCLCJzHj",
        "colab_type": "code",
        "colab": {}
      },
      "cell_type": "code",
      "source": [
        "print(\" lr.coef_:\", lr.coef_) \n",
        "print(\" lr.intercept_:\", lr.intercept_)\n",
        "#los guiones bajos representan siempre en sklearn valores derivados de datos de entrenamiento"
      ],
      "execution_count": 0,
      "outputs": []
    },
    {
      "metadata": {
        "id": "qCCgMxTSiO8u",
        "colab_type": "code",
        "colab": {}
      },
      "cell_type": "code",
      "source": [
        "#Mean Squared Error (MSE)\n",
        "from sklearn.metrics import mean_squared_error\n",
        "y_train_pred_lr = lr.predict(X_train)\n",
        "y_test_pred_lr = lr.predict(X_test)\n",
        "print('MSE train: %.3f, test: %.3f' % (mean_squared_error(y_train, y_train_pred_lr),mean_squared_error(y_test, y_test_pred_lr)))\n",
        "\n",
        "# Si MSE es mayor en test que en train, clara muestra de overfitting"
      ],
      "execution_count": 0,
      "outputs": []
    },
    {
      "metadata": {
        "id": "DacKhQCvKIq9",
        "colab_type": "code",
        "colab": {}
      },
      "cell_type": "code",
      "source": [
        "print('R-squared train score: {:.3f}'\n",
        "     .format(lr.score(X_train, y_train)))\n",
        "print('R-squared test score: {:.3f}'\n",
        "     .format(lr.score(X_test, y_test)))\n",
        "\n"
      ],
      "execution_count": 0,
      "outputs": []
    },
    {
      "metadata": {
        "id": "OntHnZfWIYaJ",
        "colab_type": "code",
        "colab": {}
      },
      "cell_type": "code",
      "source": [
        "y_pred = regressor.predict(X_test)\n",
        "# Creamos el fit lineal utilizando el conjunto de entrenamiento\n",
        "plt.scatter(X_train, y_train, color = 'red')\n",
        "plt.plot(X_train, regressor.predict(X_train), color = 'blue')\n",
        "plt.title('Total Rooms vs Median House Value (Training set)')\n",
        "plt.xlabel('total_rooms')\n",
        "plt.ylabel('median_house_value')\n",
        "plt.show()"
      ],
      "execution_count": 0,
      "outputs": []
    },
    {
      "metadata": {
        "id": "cqY-72oXI9ay",
        "colab_type": "code",
        "colab": {}
      },
      "cell_type": "code",
      "source": [
        "# Aplicamos el fit lineal al conjunto de prueba\n",
        "plt.scatter(X_test, y_test, color = 'red')\n",
        "plt.plot(X_train, regressor.predict(X_train), color = 'blue')\n",
        "plt.title('Total Rooms vs Median House Value (Test set)')\n",
        "plt.xlabel('total_rooms')\n",
        "plt.ylabel('median_house_value')\n",
        "plt.show()"
      ],
      "execution_count": 0,
      "outputs": []
    },
    {
      "metadata": {
        "id": "Vlb0jKqCspq6",
        "colab_type": "text"
      },
      "cell_type": "markdown",
      "source": [
        "# k-NN Regresor"
      ]
    },
    {
      "metadata": {
        "id": "TbgiNa3Xstdi",
        "colab_type": "code",
        "colab": {}
      },
      "cell_type": "code",
      "source": [
        "from sklearn.neighbors import KNeighborsRegressor\n",
        "\n",
        "#X_train, X_test, y_train, y_test = train_test_split(X_train, y_train, random_state = 0)\n",
        "\n",
        "knnreg = KNeighborsRegressor(n_neighbors = 5).fit(X_train, y_train)"
      ],
      "execution_count": 0,
      "outputs": []
    },
    {
      "metadata": {
        "id": "UmhZqVmBxvOp",
        "colab_type": "code",
        "outputId": "2077c042-1d60-46e5-b3e8-a3c2e8d6a775",
        "colab": {
          "base_uri": "https://localhost:8080/",
          "height": 136
        }
      },
      "cell_type": "code",
      "source": [
        "#realizamos la predicción\n",
        "\n",
        "print(knnreg.predict(X_test))"
      ],
      "execution_count": 0,
      "outputs": [
        {
          "output_type": "stream",
          "text": [
            "[[228520.]\n",
            " [236120.]\n",
            " [120580.]\n",
            " ...\n",
            " [312920.]\n",
            " [233180.]\n",
            " [175860.]]\n"
          ],
          "name": "stdout"
        }
      ]
    },
    {
      "metadata": {
        "id": "Vc2xX0kOyLJq",
        "colab_type": "code",
        "outputId": "c1251237-9e71-4d3d-a8f7-d67decfd5458",
        "colab": {
          "base_uri": "https://localhost:8080/",
          "height": 34
        }
      },
      "cell_type": "code",
      "source": [
        "#Mean Squared Error (MSE)\n",
        "\n",
        "y_train_pred_knn = knnreg.predict(X_train)\n",
        "y_test_pred_knn = knnreg.predict(X_test)\n",
        "print('MSE train: %.3f, test: %.3f' % (mean_squared_error(y_train, y_train_pred_knn),mean_squared_error(y_test, y_test_pred_knn)))"
      ],
      "execution_count": 0,
      "outputs": [
        {
          "output_type": "stream",
          "text": [
            "MSE train: 10791346441.254, test: 15389936678.808\n"
          ],
          "name": "stdout"
        }
      ]
    },
    {
      "metadata": {
        "id": "UQxhCIEcwRCN",
        "colab_type": "code",
        "outputId": "bab41887-3d2f-4223-d760-76e0d7a06b4f",
        "colab": {
          "base_uri": "https://localhost:8080/",
          "height": 34
        }
      },
      "cell_type": "code",
      "source": [
        "print('R-squared test score: {:.3f}'\n",
        "     .format(knnreg.score(X_test, y_test)))"
      ],
      "execution_count": 0,
      "outputs": [
        {
          "output_type": "stream",
          "text": [
            "R-squared test score: -0.161\n"
          ],
          "name": "stdout"
        }
      ]
    },
    {
      "metadata": {
        "id": "qex3GwtPtB4v",
        "colab_type": "code",
        "colab": {}
      },
      "cell_type": "code",
      "source": [
        "fig, subaxes = plt.subplots(1, 2, figsize=(8,4))\n",
        "X_predict_input = np.linspace(-3, 3, 50).reshape(-1,1)\n",
        "X_train, X_test, y_train, y_test = train_test_split(X_train[0::5], y_train[0::5], random_state = 0)\n",
        "\n",
        "for thisaxis, K in zip(subaxes, [1, 3]):\n",
        "    knnreg = KNeighborsRegressor(n_neighbors = K).fit(X_train, y_train)\n",
        "    y_predict_output = knnreg.predict(X_predict_input)\n",
        "    thisaxis.set_xlim([-2.5, 0.75])\n",
        "    thisaxis.plot(X_predict_input, y_predict_output, '^', markersize = 10,\n",
        "                 label='Predicted', alpha=0.8)\n",
        "    thisaxis.plot(X_train, y_train, 'o', label='True Value', alpha=0.8)\n",
        "    thisaxis.set_xlabel('Input feature')\n",
        "    thisaxis.set_ylabel('Target value')\n",
        "    thisaxis.set_title('KNN regression (K={})'.format(K))\n",
        "    thisaxis.legend()\n",
        "plt.tight_layout()"
      ],
      "execution_count": 0,
      "outputs": []
    },
    {
      "metadata": {
        "id": "e30Z2GkqzYJo",
        "colab_type": "code",
        "colab": {}
      },
      "cell_type": "code",
      "source": [
        "# plot k-NN regression pra diferentes valores de k\n",
        "\n",
        "fig, subaxes = plt.subplots(5, 1, figsize=(5,20))\n",
        "X_predict_input = np.linspace(-3, 3, 500).reshape(-1,1)\n",
        "X_train, X_test, y_train, y_test = train_test_split(X_train, y_train,\n",
        "                                                   random_state = 0)\n",
        "\n",
        "for thisaxis, K in zip(subaxes, [1, 3, 7, 15, 55]):\n",
        "    knnreg = KNeighborsRegressor(n_neighbors = K).fit(X_train, y_train)\n",
        "    y_predict_output = knnreg.predict(X_predict_input)\n",
        "    train_score = knnreg.score(X_train, y_train)\n",
        "    test_score = knnreg.score(X_test, y_test)\n",
        "    thisaxis.plot(X_predict_input, y_predict_output)\n",
        "    thisaxis.plot(X_train, y_train, 'o', alpha=0.9, label='Train')\n",
        "    thisaxis.plot(X_test, y_test, '^', alpha=0.9, label='Test')\n",
        "    thisaxis.set_xlabel('Input feature')\n",
        "    thisaxis.set_ylabel('Target value')\n",
        "    thisaxis.set_title('KNN Regression (K={})\\n\\\n",
        "Train $R^2 = {:.3f}$,  Test $R^2 = {:.3f}$'\n",
        "                      .format(K, train_score, test_score))\n",
        "    thisaxis.legend()\n",
        "    plt.tight_layout(pad=0.4, w_pad=0.5, h_pad=1.0)"
      ],
      "execution_count": 0,
      "outputs": []
    }
  ]
}