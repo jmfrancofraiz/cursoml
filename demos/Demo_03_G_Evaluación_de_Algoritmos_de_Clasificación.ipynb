{
  "nbformat": 4,
  "nbformat_minor": 0,
  "metadata": {
    "colab": {
      "name": "Demo 03 - G Evaluación de Algoritmos de Clasificación.ipynb",
      "version": "0.3.2",
      "provenance": [],
      "collapsed_sections": [
        "Wz4FbjZ00TGD",
        "BHWwi2tT4YZy",
        "OY-kDs4A4eek",
        "fOHJoBpH4Sxv",
        "BUtPpG6H4jeI"
      ],
      "toc_visible": true,
      "include_colab_link": true
    },
    "kernelspec": {
      "name": "python3",
      "display_name": "Python 3"
    }
  },
  "cells": [
    {
      "cell_type": "markdown",
      "metadata": {
        "id": "view-in-github",
        "colab_type": "text"
      },
      "source": [
        "<a href=\"https://colab.research.google.com/github/antoniosql/cursoml/blob/master/demos/Demo_03_G_Evaluaci%C3%B3n_de_Algoritmos_de_Clasificaci%C3%B3n.ipynb\" target=\"_parent\"><img src=\"https://colab.research.google.com/assets/colab-badge.svg\" alt=\"Open In Colab\"/></a>"
      ]
    },
    {
      "metadata": {
        "id": "JM0QO3vG5emg",
        "colab_type": "text"
      },
      "cell_type": "markdown",
      "source": [
        ""
      ]
    },
    {
      "metadata": {
        "id": "Wz4FbjZ00TGD",
        "colab_type": "text"
      },
      "cell_type": "markdown",
      "source": [
        "# Carga de datos y revisión"
      ]
    },
    {
      "metadata": {
        "id": "VrmWESHp3wEX",
        "colab_type": "code",
        "colab": {}
      },
      "cell_type": "code",
      "source": [
        "import pandas as pd\n",
        "import matplotlib.pyplot as plt\n",
        "fruits = pd.read_table('fruit_data_with_colors.txt')\n",
        "fruits.head()"
      ],
      "execution_count": 0,
      "outputs": []
    },
    {
      "metadata": {
        "id": "vN7ND6Qk4KYT",
        "colab_type": "code",
        "colab": {}
      },
      "cell_type": "code",
      "source": [
        "feature_names = ['mass', 'width', 'height', 'color_score']\n",
        "X = fruits[feature_names]\n",
        "y = fruits['fruit_label']"
      ],
      "execution_count": 0,
      "outputs": []
    },
    {
      "metadata": {
        "id": "jDOdWeLr4Ny4",
        "colab_type": "text"
      },
      "cell_type": "markdown",
      "source": [
        "# Separar datos y escalar"
      ]
    },
    {
      "metadata": {
        "id": "9PXyZMZd4Q3v",
        "colab_type": "code",
        "outputId": "42d01da4-68bb-49da-b8b9-7a43deac9972",
        "colab": {
          "base_uri": "https://localhost:8080/",
          "height": 72
        }
      },
      "cell_type": "code",
      "source": [
        "from sklearn.model_selection import train_test_split\n",
        "X_train, X_test, y_train, y_test = train_test_split(X, y, random_state=0)\n",
        "\n",
        "from sklearn.preprocessing import MinMaxScaler\n",
        "scaler = MinMaxScaler()\n",
        "X_train = scaler.fit_transform(X_train)\n",
        "X_test = scaler.transform(X_test)"
      ],
      "execution_count": 0,
      "outputs": [
        {
          "output_type": "stream",
          "text": [
            "/usr/local/lib/python3.6/dist-packages/sklearn/preprocessing/data.py:323: DataConversionWarning: Data with input dtype int64, float64 were all converted to float64 by MinMaxScaler.\n",
            "  return self.partial_fit(X, y)\n"
          ],
          "name": "stderr"
        }
      ]
    },
    {
      "metadata": {
        "id": "BHWwi2tT4YZy",
        "colab_type": "text"
      },
      "cell_type": "markdown",
      "source": [
        "# Árboles de Decisión\n"
      ]
    },
    {
      "metadata": {
        "id": "iKZ4_etx4cVt",
        "colab_type": "code",
        "outputId": "abc8ded2-2a56-46ed-a16d-90b711716db2",
        "colab": {
          "base_uri": "https://localhost:8080/",
          "height": 52
        }
      },
      "cell_type": "code",
      "source": [
        "from sklearn.tree import DecisionTreeClassifier\n",
        "clf = DecisionTreeClassifier().fit(X_train, y_train)\n",
        "print('Accuracy of Decision Tree classifier on training set: {:.2f}'\n",
        "     .format(clf.score(X_train, y_train)))\n",
        "print('Accuracy of Decision Tree classifier on test set: {:.2f}'\n",
        "     .format(clf.score(X_test, y_test)))"
      ],
      "execution_count": 0,
      "outputs": [
        {
          "output_type": "stream",
          "text": [
            "Accuracy of Decision Tree classifier on training set: 1.00\n",
            "Accuracy of Decision Tree classifier on test set: 0.67\n"
          ],
          "name": "stdout"
        }
      ]
    },
    {
      "metadata": {
        "id": "OY-kDs4A4eek",
        "colab_type": "text"
      },
      "cell_type": "markdown",
      "source": [
        "# k-NN"
      ]
    },
    {
      "metadata": {
        "id": "mhJh9G3_4gW8",
        "colab_type": "code",
        "outputId": "defcafaa-1c82-487e-ca17-571441e6a813",
        "colab": {
          "base_uri": "https://localhost:8080/",
          "height": 52
        }
      },
      "cell_type": "code",
      "source": [
        "from sklearn.neighbors import KNeighborsClassifier\n",
        "knn = KNeighborsClassifier()\n",
        "knn.fit(X_train, y_train)\n",
        "print('Accuracy of K-NN classifier on training set: {:.2f}'\n",
        "     .format(knn.score(X_train, y_train)))\n",
        "print('Accuracy of K-NN classifier on test set: {:.2f}'\n",
        "     .format(knn.score(X_test, y_test)))"
      ],
      "execution_count": 0,
      "outputs": [
        {
          "output_type": "stream",
          "text": [
            "Accuracy of K-NN classifier on training set: 0.95\n",
            "Accuracy of K-NN classifier on test set: 1.00\n"
          ],
          "name": "stdout"
        }
      ]
    },
    {
      "metadata": {
        "id": "_4RbU-pK4tmM",
        "colab_type": "code",
        "colab": {}
      },
      "cell_type": "code",
      "source": [
        ""
      ],
      "execution_count": 0,
      "outputs": []
    },
    {
      "metadata": {
        "id": "NvkrLHUM4ull",
        "colab_type": "code",
        "colab": {}
      },
      "cell_type": "code",
      "source": [
        "import matplotlib.cm as cm\n",
        "from matplotlib.colors import ListedColormap, BoundaryNorm\n",
        "import matplotlib.patches as mpatches\n",
        "import matplotlib.patches as mpatches\n",
        "\n",
        "X = fruits[['mass', 'width', 'height', 'color_score']]\n",
        "y = fruits['fruit_label']\n",
        "X_train, X_test, y_train, y_test = train_test_split(X, y, random_state=0)\n",
        "def plot_fruit_knn(X, y, n_neighbors, weights):\n",
        "    X_mat = X[['height', 'width']].as_matrix()\n",
        "    y_mat = y.as_matrix()\n",
        "    \n",
        "# Create color maps\n",
        "\n",
        "cmap_light = ListedColormap(['#FFAAAA', '#AAFFAA', '#AAAAFF','#AFAFAF'])\n",
        "cmap_bold  = ListedColormap(['#FF0000', '#00FF00', '#0000FF','#AFAFAF'])\n",
        "clf = neighbors.KNeighborsClassifier(n_neighbors, weights=weights)\n",
        "clf.fit(X_mat, y_mat)\n",
        "\n",
        "# Plot the decision boundary by assigning a color in the color map\n",
        "    # to each mesh point.\n",
        "    \n",
        "mesh_step_size = .01  # step size in the mesh\n",
        "plot_symbol_size = 50\n",
        "   \n",
        "x_min, x_max = X_mat[:, 0].min() - 1, X_mat[:, 0].max() + 1\n",
        "y_min, y_max = X_mat[:, 1].min() - 1, X_mat[:, 1].max() + 1\n",
        "xx, yy = np.meshgrid(np.arange(x_min, x_max, mesh_step_size),\n",
        "                         np.arange(y_min, y_max, mesh_step_size))\n",
        "Z = clf.predict(np.c_[xx.ravel(), yy.ravel()])\n",
        "\n",
        "# Put the result into a color plot\n",
        "\n",
        "Z = Z.reshape(xx.shape)\n",
        "plt.figure()\n",
        "plt.pcolormesh(xx, yy, Z, cmap=cmap_light)\n",
        "\n",
        "# Plot training points\n",
        "\n",
        "plt.scatter(X_mat[:, 0], X_mat[:, 1], s=plot_symbol_size, c=y, cmap=cmap_bold, edgecolor = 'black')\n",
        "plt.xlim(xx.min(), xx.max())\n",
        "plt.ylim(yy.min(), yy.max())\n",
        "patch0 = mpatches.Patch(color='#FF0000', label='apple')\n",
        "patch1 = mpatches.Patch(color='#00FF00', label='mandarin')\n",
        "patch2 = mpatches.Patch(color='#0000FF', label='orange')\n",
        "patch3 = mpatches.Patch(color='#AFAFAF', label='lemon')\n",
        "plt.legend(handles=[patch0, patch1, patch2, patch3])\n",
        "plt.xlabel('height (cm)')\n",
        "plt.ylabel('width (cm)')\n",
        "plt.title(\"4-Class classification (k = %i, weights = '%s')\"\n",
        "           % (n_neighbors, weights))    \n",
        "plt.show()\n",
        "plot_fruit_knn(X_train, y_train, 5, 'uniform')"
      ],
      "execution_count": 0,
      "outputs": []
    },
    {
      "metadata": {
        "id": "Gho2yBag52YO",
        "colab_type": "code",
        "outputId": "2d8ce45d-e8de-4198-b64d-d7281ea5447e",
        "colab": {
          "base_uri": "https://localhost:8080/",
          "height": 463
        }
      },
      "cell_type": "code",
      "source": [
        "# cómo afecta el número de ks\n",
        "k_range = range(1, 20)\n",
        "scores = []\n",
        "for k in k_range:\n",
        "    knn = KNeighborsClassifier(n_neighbors = k)\n",
        "    knn.fit(X_train, y_train)\n",
        "    scores.append(knn.score(X_test, y_test))\n",
        "plt.figure()\n",
        "plt.xlabel('k')\n",
        "plt.ylabel('accuracy')\n",
        "plt.scatter(k_range, scores)\n",
        "plt.xticks([0,5,10,15,20])"
      ],
      "execution_count": 0,
      "outputs": [
        {
          "output_type": "execute_result",
          "data": {
            "text/plain": [
              "([<matplotlib.axis.XTick at 0x7f2b2d4a9b38>,\n",
              "  <matplotlib.axis.XTick at 0x7f2b2d4b7278>,\n",
              "  <matplotlib.axis.XTick at 0x7f2b2d4b7128>,\n",
              "  <matplotlib.axis.XTick at 0x7f2b2d456780>,\n",
              "  <matplotlib.axis.XTick at 0x7f2b2d456c50>],\n",
              " <a list of 5 Text xticklabel objects>)"
            ]
          },
          "metadata": {
            "tags": []
          },
          "execution_count": 16
        },
        {
          "output_type": "display_data",
          "data": {
            "image/png": "[encoded data removed]",
            "text/plain": [
              "<Figure size 576x396 with 1 Axes>"
            ]
          },
          "metadata": {
            "tags": []
          }
        }
      ]
    },
    {
      "metadata": {
        "id": "fOHJoBpH4Sxv",
        "colab_type": "text"
      },
      "cell_type": "markdown",
      "source": [
        "# Regresión Logística"
      ]
    },
    {
      "metadata": {
        "id": "NdAmhi2v4Wfp",
        "colab_type": "code",
        "colab": {}
      },
      "cell_type": "code",
      "source": [
        "from sklearn.linear_model import LogisticRegression\n",
        "logreg = LogisticRegression()\n",
        "logreg.fit(X_train, y_train)\n",
        "print('Accuracy of Logistic regression classifier on training set: {:.2f}'\n",
        "     .format(logreg.score(X_train, y_train)))\n",
        "print('Accuracy of Logistic regression classifier on test set: {:.2f}'\n",
        "     .format(logreg.score(X_test, y_test)))"
      ],
      "execution_count": 0,
      "outputs": []
    },
    {
      "metadata": {
        "id": "BUtPpG6H4jeI",
        "colab_type": "text"
      },
      "cell_type": "markdown",
      "source": [
        "# SVM"
      ]
    },
    {
      "metadata": {
        "id": "tdZbAk2l4lNt",
        "colab_type": "code",
        "colab": {}
      },
      "cell_type": "code",
      "source": [
        "from sklearn.svm import SVC\n",
        "svm = SVC()\n",
        "svm.fit(X_train, y_train)\n",
        "print('Accuracy of SVM classifier on training set: {:.2f}'\n",
        "     .format(svm.score(X_train, y_train)))\n",
        "print('Accuracy of SVM classifier on test set: {:.2f}'\n",
        "     .format(svm.score(X_test, y_test)))"
      ],
      "execution_count": 0,
      "outputs": []
    },
    {
      "metadata": {
        "id": "mSSb0NBUqn3f",
        "colab_type": "text"
      },
      "cell_type": "markdown",
      "source": [
        "# Matriz de Confusion"
      ]
    },
    {
      "metadata": {
        "id": "QCACZe3FqqNB",
        "colab_type": "code",
        "outputId": "53a2d20d-40f2-4168-ef77-339553f6c791",
        "colab": {
          "base_uri": "https://localhost:8080/",
          "height": 87
        }
      },
      "cell_type": "code",
      "source": [
        "from sklearn.metrics import classification_report\n",
        "from sklearn.metrics import confusion_matrix\n",
        "pred = knn.predict(X_test)\n",
        "print(confusion_matrix(y_test, pred))\n",
        "#print(classification_report(y_test, pred))"
      ],
      "execution_count": 0,
      "outputs": [
        {
          "output_type": "stream",
          "text": [
            "[[4 0 0 0]\n",
            " [0 1 0 0]\n",
            " [0 0 8 0]\n",
            " [0 0 0 2]]\n"
          ],
          "name": "stdout"
        }
      ]
    }
  ]
}