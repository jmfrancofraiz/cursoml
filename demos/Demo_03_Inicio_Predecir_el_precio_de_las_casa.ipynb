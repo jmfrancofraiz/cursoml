{
  "nbformat": 4,
  "nbformat_minor": 0,
  "metadata": {
    "colab": {
      "name": "Demo 03 Inicio Predecir el precio de las casa.ipynb",
      "version": "0.3.2",
      "provenance": [],
      "collapsed_sections": [],
      "include_colab_link": true
    },
    "kernelspec": {
      "name": "python3",
      "display_name": "Python 3"
    }
  },
  "cells": [
    {
      "cell_type": "markdown",
      "metadata": {
        "id": "view-in-github",
        "colab_type": "text"
      },
      "source": [
        "<a href=\"https://colab.research.google.com/github/antoniosql/cursoml/blob/master/demos/Demo_03_Inicio_Predecir_el_precio_de_las_casa.ipynb\" target=\"_parent\"><img src=\"https://colab.research.google.com/assets/colab-badge.svg\" alt=\"Open In Colab\"/></a>"
      ]
    },
    {
      "metadata": {
        "id": "g5vWPcStuBWo",
        "colab_type": "text"
      },
      "cell_type": "markdown",
      "source": [
        "# Familizarizándonos con los datos"
      ]
    },
    {
      "metadata": {
        "id": "pCn3Tn-crv8-",
        "colab_type": "code",
        "colab": {}
      },
      "cell_type": "code",
      "source": [
        "import numpy as np\n",
        "import pandas as pd\n",
        "dataset = pd.read_csv('sample_data/california_housing_train.csv')\n",
        "\n"
      ],
      "execution_count": 0,
      "outputs": []
    },
    {
      "metadata": {
        "id": "yWbl7p7Yr8PU",
        "colab_type": "code",
        "colab": {}
      },
      "cell_type": "code",
      "source": [
        "dataset.describe()"
      ],
      "execution_count": 0,
      "outputs": []
    },
    {
      "metadata": {
        "id": "VEnTOvSRr_kT",
        "colab_type": "code",
        "colab": {}
      },
      "cell_type": "code",
      "source": [
        "dataset.hist('total_rooms')"
      ],
      "execution_count": 0,
      "outputs": []
    },
    {
      "metadata": {
        "id": "9Os3hRZAsEE7",
        "colab_type": "code",
        "colab": {}
      },
      "cell_type": "code",
      "source": [
        "import matplotlib.pyplot as plt\n",
        "X = dataset[['total_rooms']].values\n",
        "y = dataset[['median_house_value']].values\n",
        "plt.scatter(X, y)"
      ],
      "execution_count": 0,
      "outputs": []
    },
    {
      "metadata": {
        "id": "nKoUFBBDsU6y",
        "colab_type": "text"
      },
      "cell_type": "markdown",
      "source": [
        "Tal vez esperabas algo mucho más sofisticado que esto. Sin embargo, este ejemplo de regresión aparentemente \"simple\" constituye la base de muchos procedimientos avanzados de análisis predictivo.\n",
        "Primero tenemos que determinar la relación entre una variable (o varias entidades) y una salida. Luego visualizamos los datos usando un diagrama de dispersión para tener una idea mejor. Ya sea un pequeño DataSet o un archivo con miles de millones de puntos de datos (por ejemplo, las redes sociales), los pasos generales son los mismos.\n",
        "\n",
        "No te saltes estos pasos fundamentales y vayas directamente a \"sofisticados algoritmos de machine learning\". Después de todo, el objetivo es trabajar y utilizar los datos (no necesariamente aplicar el ML a él).\n",
        "Después de visualizar los datos, podemos buscar valores atípicos o algo fuera de lo común en los datos. Estos valores atípicos pueden sesgar enormemente nuestro modelo. En otras palabras, puede hacer que nuestro modelo funcione mal cuando llegan nuevos datos."
      ]
    },
    {
      "metadata": {
        "id": "9aCFDbG6uRGx",
        "colab_type": "text"
      },
      "cell_type": "markdown",
      "source": [
        "# Dividiendo datos entrenamiento / prueba"
      ]
    },
    {
      "metadata": {
        "id": "OaJmNkJQtXLt",
        "colab_type": "code",
        "colab": {}
      },
      "cell_type": "code",
      "source": [
        "from sklearn.model_selection import train_test_split\n",
        "\n",
        "X_train, X_test, y_train, y_test = train_test_split(X, y, test_size = 1/3, random_state = 0)\n",
        "\n",
        "\n"
      ],
      "execution_count": 0,
      "outputs": []
    },
    {
      "metadata": {
        "id": "trVXet6kuXKG",
        "colab_type": "code",
        "colab": {}
      },
      "cell_type": "code",
      "source": [
        ""
      ],
      "execution_count": 0,
      "outputs": []
    },
    {
      "metadata": {
        "id": "lH0SDgDOuYe9",
        "colab_type": "text"
      },
      "cell_type": "markdown",
      "source": [
        "# Regresión Lineal"
      ]
    },
    {
      "metadata": {
        "id": "8j3vTddxtdGH",
        "colab_type": "code",
        "colab": {}
      },
      "cell_type": "code",
      "source": [
        "from sklearn.linear_model import LinearRegression\n",
        "regressor = LinearRegression()\n",
        "regressor.fit(X_train, y_train)\n",
        "y_pred = regressor.predict(X_test)"
      ],
      "execution_count": 0,
      "outputs": []
    },
    {
      "metadata": {
        "id": "FXq2y2KJtbAT",
        "colab_type": "code",
        "colab": {}
      },
      "cell_type": "code",
      "source": [
        "# Crear el predictor lineal utilizando el conjunto de entrenamiento\n",
        "plt.scatter(X_train, y_train, color = 'red')\n",
        "plt.plot(X_train, regressor.predict(X_train), color = 'blue')\n",
        "plt.title('Total Rooms vs Median House Value (Training set)')\n",
        "plt.xlabel('total_rooms')\n",
        "plt.ylabel('median_house_value')\n",
        "plt.show()"
      ],
      "execution_count": 0,
      "outputs": []
    },
    {
      "metadata": {
        "id": "vouFffLethKw",
        "colab_type": "code",
        "colab": {}
      },
      "cell_type": "code",
      "source": [
        "# Aplicar el predictor linearl al conjunto de prueba\n",
        "plt.scatter(X_test, y_test, color = 'red')\n",
        "plt.plot(X_train, regressor.predict(X_train), color = 'blue')\n",
        "plt.title('Total Rooms vs Median House Value (Test set)')\n",
        "plt.xlabel('total_rooms')\n",
        "plt.ylabel('median_house_value')\n",
        "plt.show()"
      ],
      "execution_count": 0,
      "outputs": []
    },
    {
      "metadata": {
        "id": "x6lH0cZltrSs",
        "colab_type": "text"
      },
      "cell_type": "markdown",
      "source": [
        "Fíjate que estamos aplicando la misma línea que conseguimos del conjunto de pruebas en el conjunto de entrenamiento. Después de todo, estamos construyendo la mejor línea de ajuste para el conjunto de entrenamiento y ver si también está funcionando bien con el conjunto de pruebas.\n",
        "Ten en cuenta también que esto está lejos de ser el mejor ejemplo (solo estamos empezando). No importan los detalles, el objetivo en la regresión lineal es encontrar la mejor línea de ajuste para aproximar la relación entre una entrada y salida y también ser capaz de utilizar esa línea para predecir valores para datos \"invisibles\" (por ejemplo, conjunto de pruebas y nuevos datos entrantes)."
      ]
    }
  ]
}